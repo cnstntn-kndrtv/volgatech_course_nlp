{
 "cells": [
  {
   "cell_type": "markdown",
   "metadata": {},
   "source": [
    "# 2.4.3. Модель word2vec и сервис RusVectōrēs.  \n",
    "\n",
    "Видеоуроки:  \n",
    "2.4.1. Векторное представление единиц текста.  \n",
    "2.4.2. Оценка близости двух текстов.  \n",
    "**2.4.3. Модель word2vec сервиса RusVectōrēs.**  \n",
    "\n",
    "Дополнительные материалы:  \n",
    "2.4.4. Скринкаст \"Оценка семантической близости вопросов и ответов с использованием модели FastText сервиса RusVectōrēs\".  \n",
    "2.4.5. Скринкаст \"Оценка семантической близости вопросов и ответов с использованием модели Elmo сервиса RusVectōrēs\".  "
   ]
  },
  {
   "cell_type": "markdown",
   "metadata": {},
   "source": [
    "> \"A word is characterized by the company it keeps\"  \n",
    "[John Rupert Firth](https://en.wikipedia.org/wiki/John_Rupert_Firth)  \n",
    "\n",
    "**Дистрибутивная гипотеза** - лингвистические единицы, встречающиеся в схожих контекстах, имеют близкие значения (значение слова определяется словами, с которыми оно употребляется).  \n",
    "Например слова \"чай\" и \"кофе\" семантически близки так как употребляются вместе со словами \"ложка\", \"чашка\".  \n",
    "  \n",
    "**Языковая модель (статистическая)** - распределение вероятностей по последовательностям слов. Нейросетевые модели, обученные предсказывать слово с учетом контекста. Например: \"Мама мыла Х\", где слово \"раму\" имеет вероятность больше, чем слово \"папу\".  \n",
    "  \n",
    "**Word2Vec (word to vector)** - нейросетевая языковая модель обучения без учителя, получает на вход слово, на выходе - вектор фиксированной размерности. Задача модели - представить слова таким вектором, чтобы слова со схожим смыслом (контекстом) были близки, а с различающимся - далеки друг от друга.  \n",
    "Word2Vec обучается на больших объемах текстов (текстах новостей, википедии), что позволяет получить обширные \"знания\" (языковую интуицию). В результате модель можно переиспользовать на разных задачах.  \n",
    "  \n",
    "**Embedding ([вложение](https://ru.wikipedia.org/wiki/Вложение))** - векторное представление слова/текста (результат на выходе из модели).  \n",
    "\n",
    "Сервис [RusVectōrēs](https://rusvectores.org/ru/about/) вычисляет семантические отношения между словами русского языка и позволяет скачать предобученные дистрибутивно-семантические модели (word embeddings).  \n",
    "  \n",
    "> Обучение дистрибутивных моделей на основе больших корпусов может требовать существенных вычислительных мощностей. Поэтому важно предоставить русскоязычному лингвистическому сообществу доступ к предобученным моделям. Наш сервис дает пользователям готовые модели для скачивания (чтобы продолжить эксперименты на своём компьютере), а также удобный интерфейс запросов к ним. Также возможно визуализировать семантические отношения между словами, что, как мы надеемся, будет полезным для исследователей. В целом, задача нашего сервиса — снизить порог входа для тех, кто хочет работать в этом новом и интересном направлении.\n",
    "  \n",
    "Выбрав модель, вы можете:\n",
    "\n",
    "1. вычислять семантическое сходство между парами слов;  \n",
    "2. находить слова, ближайшие к данному (с возможностью фильтрации по части речи и частотности);  \n",
    "3. решать аналогии вида «найти слово X, которое так относится к слову Y, как слово A относится к слову B»;  \n",
    "4. выполнять над векторами слов алгебраические операции (сложение, вычитание, поиск центра лексического кластера и расстояний до этого центра).\n",
    "5. рисовать семантические карты отношений между словами (это позволяет выявлять семантические кластеры или тестировать ваши гипотезы о таких кластерах);  \n",
    "6. получать вектор (в виде массива чисел) и его визуализацию для данного слова в выбранной модели: для этого нужно кликнуть по любому слову или использовать уникальный адрес этого слова, как описано ниже;  \n",
    "7. генерировать контекстно-зависимые лексические подстановки для контекстуализированных дистрибутивных моделей, например, ELMo;  \n",
    "8. скачать модель.  \n",
    "  \n",
    "Видео - https://youtu.be/wWG204boB5s  "
   ]
  },
  {
   "cell_type": "markdown",
   "metadata": {},
   "source": [
    "## Использование моделей RusVectōrēs.  \n",
    "  \n",
    "В основе RusVectores лежит библиотека [Gensim](https://radimrehurek.com/gensim/).  \n",
    "Gensim - изначально библиотека для тематического моделирования текстов. Однако помимо различных алгоритмов для topic modeling в ней реализованы на python и алгоритмы word2vec (который в оригинале был написан на C++).  "
   ]
  },
  {
   "cell_type": "code",
   "execution_count": 11,
   "metadata": {},
   "outputs": [],
   "source": [
    "from typing import List\n",
    "import gensim, logging\n",
    "import zipfile\n",
    "import wget\n",
    "import warnings\n",
    "\n",
    "# Уберем лишние предупреждения\n",
    "warnings.filterwarnings('ignore')\n",
    "# Поскольку обучение и загрузка моделей могут занимать продолжительное время, иногда бывает полезно вести лог событий.\n",
    "logging.basicConfig(format='%(asctime)s : %(levelname)s : %(message)s', level=logging.INFO)"
   ]
  },
  {
   "cell_type": "markdown",
   "metadata": {},
   "source": [
    "Если у вас есть достаточно большой корпус текстов - вы можете натренировать модель самостоятельно на своих данных. Но для общих целей есть смысл использовать готовые модели, натренированные на больших объемах текстов как русского так и английского языков. \n",
    "\n",
    "Модели для русского скачать можно здесь - https://rusvectores.org/ru/models/"
   ]
  },
  {
   "cell_type": "markdown",
   "metadata": {},
   "source": [
    "### Word2Vec\n",
    "Давайте скачаем модель Word2Vec для русского языка, созданную на основе [Национального Корпуса Русского Языка (НКРЯ)](http://www.ruscorpora.ru/), и загрузим в её в память. Распаковывать скачанный архив для обычных моделей не нужно, так как его содержимое прочитается при помощи специальной инструкции:"
   ]
  },
  {
   "cell_type": "code",
   "execution_count": 2,
   "metadata": {},
   "outputs": [
    {
     "name": "stderr",
     "output_type": "stream",
     "text": [
      "2022-01-19 15:54:41,906 : INFO : loading projection weights from <zipfile.ZipExtFile name='model.bin' mode='r' compress_type=deflate>\n",
      "2022-01-19 15:54:44,926 : INFO : loaded (189193, 300) matrix from <zipfile.ZipExtFile [closed]>\n"
     ]
    }
   ],
   "source": [
    "MODEL_W2V_URL = 'http://vectors.nlpl.eu/repository/11/180.zip'\n",
    "\n",
    "# размер файла - 460 Mb.\n",
    "# Закомментируйте строку, если скачивали файл модели ранее.\n",
    "# m = wget.download(MODEL_W2V_URL)\n",
    "model_file = MODEL_W2V_URL.split('/')[-1]\n",
    "\n",
    "with zipfile.ZipFile(model_file, 'r') as archive:\n",
    "    stream = archive.open('model.bin')\n",
    "    model_w2v = gensim.models.KeyedVectors.load_word2vec_format(stream, binary=True)"
   ]
  },
  {
   "cell_type": "markdown",
   "metadata": {},
   "source": [
    "Проанализируем несколько слов.  \n",
    "В этой модели для каждого слова указывается часть речи. Подробнее о тегах частей речи можно почитать тут - https://universaldependencies.org/u/pos/all.html  \n",
    "`NOUN` - существительное,  \n",
    "`ADJ` - прилагательное,  \n",
    "`VERB` - глагол.  "
   ]
  },
  {
   "cell_type": "code",
   "execution_count": 42,
   "metadata": {},
   "outputs": [],
   "source": [
    "words = ['день_NOUN', 'ночь_NOUN', 'человек_NOUN', 'семантика_NOUN', 'студент_NOUN', 'студент_ADJ']"
   ]
  },
  {
   "cell_type": "markdown",
   "metadata": {},
   "source": [
    "Запросим у модели 5 ближайших соседей для каждого слова и коэффициент косинусной близости для каждого:"
   ]
  },
  {
   "cell_type": "code",
   "execution_count": 47,
   "metadata": {},
   "outputs": [],
   "source": [
    "def print_neighbors(words: List[str], model: gensim.models.KeyedVectors, top_n: int = 5):\n",
    "    \"\"\"\n",
    "    Печатаем семантически близкие слова.\n",
    "\n",
    "    Args:\n",
    "        words (List[str]): список слов, для которых нужно найти соседей.\n",
    "        model (gensim.models.KeyedVectors): модель gensim.\n",
    "        top_n (int): количество соседей. По умолчанию 5.\n",
    "    \"\"\"\n",
    "\n",
    "    col_width = 20\n",
    "    print(*[c.ljust(col_width) for c in ['Слово', 'Сосед', 'Коэффициент косинуссной близости']])\n",
    "    print('-'*col_width*3)\n",
    "\n",
    "    for word in words:\n",
    "        # есть ли слово в модели? Может быть, и нет.\n",
    "        if word in model:\n",
    "            # выдаем top_n ближайших соседей слова:\n",
    "            for i in model.most_similar(positive=[word], topn=top_n):\n",
    "                w2 = i[0]\n",
    "                d = round(i[1], 3)\n",
    "                print(word.ljust(col_width), w2.ljust(col_width), d)\n",
    "            print('')\n",
    "        else:\n",
    "            # Out of vocabulary\n",
    "            print(word + ' - OOV! 😒')"
   ]
  },
  {
   "cell_type": "code",
   "execution_count": 48,
   "metadata": {},
   "outputs": [
    {
     "name": "stdout",
     "output_type": "stream",
     "text": [
      "Слово                Сосед                Коэффициент косинуссной близости\n",
      "------------------------------------------------------------\n",
      "день_NOUN            неделя_NOUN          0.738\n",
      "день_NOUN            день_PROPN           0.707\n",
      "день_NOUN            месяц_NOUN           0.704\n",
      "день_NOUN            час_NOUN             0.664\n",
      "день_NOUN            утро_NOUN            0.653\n",
      "\n",
      "ночь_NOUN            ночь_PROPN           0.831\n",
      "ночь_NOUN            вечер_NOUN           0.718\n",
      "ночь_NOUN            рассвет_NOUN         0.697\n",
      "ночь_NOUN            ночи_NOUN            0.692\n",
      "ночь_NOUN            полночь_NOUN         0.67\n",
      "\n",
      "человек_NOUN         человек_PROPN        0.785\n",
      "человек_NOUN         человеческий_ADJ     0.592\n",
      "человек_NOUN         существо_NOUN        0.574\n",
      "человек_NOUN         народ_NOUN           0.535\n",
      "человек_NOUN         личность_NOUN        0.53\n",
      "\n",
      "семантика_NOUN       семантический_ADJ    0.802\n",
      "семантика_NOUN       синтаксический_ADJ   0.757\n",
      "семантика_NOUN       модальный_ADJ        0.73\n",
      "семантика_NOUN       семантически_ADV     0.721\n",
      "семантика_NOUN       смысловой_ADJ        0.716\n",
      "\n",
      "студент_NOUN         преподаватель_NOUN   0.674\n",
      "студент_NOUN         студенческий_ADJ     0.649\n",
      "студент_NOUN         университетский_ADJ  0.644\n",
      "студент_NOUN         заочник_NOUN         0.642\n",
      "студент_NOUN         первокурсник_NOUN    0.641\n",
      "\n",
      "студент_ADJ - OOV! 😒\n"
     ]
    }
   ],
   "source": [
    "print_neighbors(words, model_w2v, 5)"
   ]
  },
  {
   "cell_type": "markdown",
   "metadata": {},
   "source": [
    "Word2Vec не может обрабатывать слова, которых нет в словаре.  \n",
    "Давайте посмотрим, какие слова есть в словаре модели:  "
   ]
  },
  {
   "cell_type": "code",
   "execution_count": 17,
   "metadata": {},
   "outputs": [
    {
     "data": {
      "text/plain": [
       "['так_ADV',\n",
       " 'быть_VERB',\n",
       " 'мочь_VERB',\n",
       " 'год_NOUN',\n",
       " 'человек_NOUN',\n",
       " 'xxxxxx_NUM',\n",
       " 'сказать_VERB',\n",
       " 'еще_ADV',\n",
       " 'один_NUM',\n",
       " 'говорить_VERB']"
      ]
     },
     "execution_count": 17,
     "metadata": {},
     "output_type": "execute_result"
    }
   ],
   "source": [
    "model_w2v.index2word[:10]"
   ]
  },
  {
   "cell_type": "markdown",
   "metadata": {},
   "source": [
    "Косинусная близость пары слов."
   ]
  },
  {
   "cell_type": "code",
   "execution_count": 18,
   "metadata": {},
   "outputs": [
    {
     "name": "stdout",
     "output_type": "stream",
     "text": [
      "0.22025342\n"
     ]
    }
   ],
   "source": [
    "print(model_w2v.similarity('человек_NOUN', 'обезьяна_NOUN'))"
   ]
  },
  {
   "cell_type": "markdown",
   "metadata": {},
   "source": [
    "Найди лишнее слово."
   ]
  },
  {
   "cell_type": "code",
   "execution_count": 19,
   "metadata": {},
   "outputs": [
    {
     "name": "stdout",
     "output_type": "stream",
     "text": [
      "картофель_NOUN\n"
     ]
    }
   ],
   "source": [
    "print(model_w2v.doesnt_match('яблоко_NOUN груша_NOUN виноград_NOUN банан_NOUN лимон_NOUN картофель_NOUN'.split()))"
   ]
  },
  {
   "cell_type": "code",
   "execution_count": 20,
   "metadata": {},
   "outputs": [
    {
     "name": "stderr",
     "output_type": "stream",
     "text": [
      "2022-01-19 16:02:17,526 : WARNING : vectors for words {'германия_NOUN'} are not present in the model, ignoring these words\n"
     ]
    },
    {
     "name": "stdout",
     "output_type": "stream",
     "text": [
      "сельдь_NOUN\n"
     ]
    }
   ],
   "source": [
    "print(model_w2v.doesnt_match('сельдь_NOUN италия_NOUN германия_NOUN россия_NOUN'.split()))"
   ]
  },
  {
   "cell_type": "markdown",
   "metadata": {},
   "source": [
    "Борщ + Россия - Италия"
   ]
  },
  {
   "cell_type": "code",
   "execution_count": 21,
   "metadata": {},
   "outputs": [
    {
     "name": "stdout",
     "output_type": "stream",
     "text": [
      "суп_NOUN\n"
     ]
    }
   ],
   "source": [
    "print(model_w2v.most_similar(positive=['борщ_NOUN', 'россия_NOUN'], negative=['италия_NOUN'])[0][0])"
   ]
  },
  {
   "cell_type": "code",
   "execution_count": 22,
   "metadata": {},
   "outputs": [
    {
     "name": "stdout",
     "output_type": "stream",
     "text": [
      "антиоксидант_NOUN\n"
     ]
    }
   ],
   "source": [
    "print(model_w2v.most_similar(positive=['кофеин_NOUN', 'кофе_NOUN'], negative=['чай_NOUN'])[0][0])"
   ]
  },
  {
   "cell_type": "markdown",
   "metadata": {},
   "source": [
    "## Инструменты на сайте RusVectōrēs.  \n",
    "На сайте проекта [RusVectōrēs](https://rusvectores.org) доступны различные инструменты, позволяющие проводиь эксперименты с моделями без использования программного кода.  \n",
    "\n",
    "![alt text](https://rusvectores.org/data/images/ruwikiruscorpora_1k_nouns.png)\n"
   ]
  },
  {
   "cell_type": "markdown",
   "metadata": {},
   "source": [
    "# Выводы \n",
    "\n",
    "1. Сервис RusVectōrēs предоставляет доступ к большому количеству предобученных моделей.  \n",
    "2. Модели RusVectores позволяют решать несколько задач:  \n",
    "        - вычислять семантическое сходство между парами слов;  \n",
    "        - находить слова, ближайшие к данному;  \n",
    "        - решать аналогии вида «найти слово X, которое так относится к слову Y, как слово A относится к слову B»;  \n",
    "        - и прочее.  \n",
    "3. Использование готовой модели, обученной на большом тексте, дает много плюсов для использования в своих проектах (примеры будут рассмотрены в следующих темах).  \n",
    "4. Много инструментов для экспериментов доступны на сайте проекта.  "
   ]
  },
  {
   "cell_type": "markdown",
   "metadata": {},
   "source": [
    "# Дополнительные материалы:  \n",
    "  \n",
    "https://rusvectores.org  \n",
    "https://radimrehurek.com/gensim  \n",
    "https://fasttext.cc  \n"
   ]
  }
 ],
 "metadata": {
  "interpreter": {
   "hash": "aeea92d5cbc7b4733b7a0b2ebc427ac21a58cceab802504a0dd243d8ac63dc4a"
  },
  "kernelspec": {
   "display_name": "Python 3.7.5 64-bit ('env': venv)",
   "language": "python",
   "name": "python3"
  },
  "language_info": {
   "codemirror_mode": {
    "name": "ipython",
    "version": 3
   },
   "file_extension": ".py",
   "mimetype": "text/x-python",
   "name": "python",
   "nbconvert_exporter": "python",
   "pygments_lexer": "ipython3",
   "version": "3.7.8"
  },
  "orig_nbformat": 4
 },
 "nbformat": 4,
 "nbformat_minor": 2
}
