{
 "cells": [
  {
   "cell_type": "markdown",
   "metadata": {},
   "source": [
    "# 2.4.2. Оценка близости двух текстов.  \n",
    "\n",
    "Видеоуроки:  \n",
    "2.4.1. Векторное представление единиц текста.  \n",
    "**2.4.2. Оценка близости двух текстов.**  \n",
    "2.4.3. Модель word2vec сервиса RusVectōrēs.  \n",
    "\n",
    "Дополнительные материалы:  \n",
    "2.4.4. Скринкаст \"Оценка семантической близости вопросов и ответов с использованием модели FastText сервиса RusVectōrēs\".  \n",
    "2.4.5. Скринкаст \"Оценка семантической близости вопросов и ответов с использованием модели Elmo сервиса RusVectōrēs\".  \n"
   ]
  },
  {
   "cell_type": "code",
   "execution_count": 29,
   "metadata": {},
   "outputs": [],
   "source": [
    "import matplotlib.pyplot as plt\n",
    "import pandas as pd\n",
    "from sklearn.feature_extraction.text import CountVectorizer\n",
    "from sklearn.metrics.pairwise import euclidean_distances\n",
    "from sklearn.decomposition import PCA\n",
    "import numpy as np\n",
    "\n",
    "plt.style.use('ggplot')\n",
    "RANDOM_SEED = 42\n",
    "np.random.seed(RANDOM_SEED)"
   ]
  },
  {
   "cell_type": "markdown",
   "metadata": {},
   "source": [
    "В предыдущей теме мы разобрали векторизацию текста - преобразование текста в числовой вектор.  \n",
    "В этом уроке мы разберем задачу определения степени сходства 2 текстов.  \n",
    "Нам понадобится корпус текстов для анализа.  \n",
    "В папке `'./data/volgatech_faq'` представлен датасет:  \n",
    "Описание файлов данных:  \n",
    "* `questions.csv` - вопросы пользователей;  \n",
    "* `answers.csv` - ответы на вопросы;  \n",
    "* `pos_relations.csv` - правильные ответы на вопросы (пары вопрос==ответ);  \n",
    "* `neg_relations.csv` - неправильные (неподходящие) ответы.  \n",
    "  \n",
    "Для наших целей достаточно будет только вопросов.  \n"
   ]
  },
  {
   "cell_type": "code",
   "execution_count": 1,
   "metadata": {},
   "outputs": [
    {
     "name": "stdout",
     "output_type": "stream",
     "text": [
      "answers.csv       neg_relations.csv questions.csv\n",
      "data.zip          pos_relations.csv\n"
     ]
    }
   ],
   "source": [
    "!ls ./data/volgatech_faq"
   ]
  },
  {
   "cell_type": "code",
   "execution_count": 6,
   "metadata": {},
   "outputs": [
    {
     "data": {
      "text/html": [
       "<div>\n",
       "<style scoped>\n",
       "    .dataframe tbody tr th:only-of-type {\n",
       "        vertical-align: middle;\n",
       "    }\n",
       "\n",
       "    .dataframe tbody tr th {\n",
       "        vertical-align: top;\n",
       "    }\n",
       "\n",
       "    .dataframe thead th {\n",
       "        text-align: right;\n",
       "    }\n",
       "</style>\n",
       "<table border=\"1\" class=\"dataframe\">\n",
       "  <thead>\n",
       "    <tr style=\"text-align: right;\">\n",
       "      <th></th>\n",
       "      <th>id</th>\n",
       "      <th>text</th>\n",
       "    </tr>\n",
       "  </thead>\n",
       "  <tbody>\n",
       "    <tr>\n",
       "      <th>0</th>\n",
       "      <td>3647</td>\n",
       "      <td>размерность векторного пространства</td>\n",
       "    </tr>\n",
       "    <tr>\n",
       "      <th>1</th>\n",
       "      <td>3644</td>\n",
       "      <td>расстояние</td>\n",
       "    </tr>\n",
       "    <tr>\n",
       "      <th>2</th>\n",
       "      <td>3643</td>\n",
       "      <td>привет</td>\n",
       "    </tr>\n",
       "    <tr>\n",
       "      <th>3</th>\n",
       "      <td>3631</td>\n",
       "      <td>что такое подпространство</td>\n",
       "    </tr>\n",
       "    <tr>\n",
       "      <th>4</th>\n",
       "      <td>3630</td>\n",
       "      <td>матрица перехода к новому базису</td>\n",
       "    </tr>\n",
       "  </tbody>\n",
       "</table>\n",
       "</div>"
      ],
      "text/plain": [
       "     id                                 text\n",
       "0  3647  размерность векторного пространства\n",
       "1  3644                           расстояние\n",
       "2  3643                               привет\n",
       "3  3631            что такое подпространство\n",
       "4  3630     матрица перехода к новому базису"
      ]
     },
     "execution_count": 6,
     "metadata": {},
     "output_type": "execute_result"
    }
   ],
   "source": [
    "df_questions = pd.read_csv('./data/volgatech_faq/questions.csv', sep=';', names=['id', 'text'])\n",
    "df_questions.head()"
   ]
  },
  {
   "cell_type": "code",
   "execution_count": 8,
   "metadata": {},
   "outputs": [
    {
     "name": "stdout",
     "output_type": "stream",
     "text": [
      "<class 'pandas.core.frame.DataFrame'>\n",
      "RangeIndex: 187 entries, 0 to 186\n",
      "Data columns (total 2 columns):\n",
      " #   Column  Non-Null Count  Dtype \n",
      "---  ------  --------------  ----- \n",
      " 0   id      187 non-null    int64 \n",
      " 1   text    187 non-null    object\n",
      "dtypes: int64(1), object(1)\n",
      "memory usage: 3.0+ KB\n"
     ]
    }
   ],
   "source": [
    "df_questions.info()"
   ]
  },
  {
   "cell_type": "markdown",
   "metadata": {},
   "source": [
    "## Count vectorizer  \n",
    "\n",
    "Задача - кодировать текст документа в вектор.  \n",
    "Число слов в корпусе равно $K$  \n",
    "Сопоставим документу с номером $j$ вектор длины $K$. Значение $K_{i}$ соответствует количеству (абсолютной частоте) встречаемости слова $i$ в тексте $j$.  \n",
    "Смысл документа представлен частотой слов этого документа.  \n",
    "  \n",
    "Недостатки:\n",
    " - OOV слова игнорируются.  \n",
    " - Размер вектора $K$ растет с ростом словаря.  "
   ]
  },
  {
   "cell_type": "code",
   "execution_count": 69,
   "metadata": {},
   "outputs": [
    {
     "name": "stdout",
     "output_type": "stream",
     "text": [
      "Размер словаря: 136\n",
      "Текст: размерность векторного пространства\n",
      "Вектор: [[0 0 0 0 0 0 0 0 0 0 1 0 0 0 0 0 0 0 0 0 0 0 0 0 0 0 0 0 0 0 0 0 0 0 0 0\n",
      "  0 0 0 0 0 0 0 0 0 0 0 0 0 0 0 0 0 0 0 0 0 0 0 0 0 0 0 0 0 0 0 0 0 0 0 0\n",
      "  0 0 0 0 0 0 0 0 0 0 0 0 0 0 0 0 0 0 0 0 0 0 0 0 0 0 0 0 0 0 0 0 0 0 1 0\n",
      "  0 0 0 0 0 1 0 0 0 0 0 0 0 0 0 0 0 0 0 0 0 0 0 0 0 0 0 0]]\n"
     ]
    }
   ],
   "source": [
    "corpora = df_questions['text']\n",
    "\n",
    "# Параметры по умолчанию разбивают текст на токены длиной не менее 2 символов.\n",
    "# в примере ниже `и` будет проигнорирован.\n",
    "count_vectorizer = CountVectorizer()\n",
    "count_vectorizer.fit(corpora)\n",
    "\n",
    "print('Размер словаря:', len(count_vectorizer.get_feature_names_out()))\n",
    "\n",
    "t = corpora[0]\n",
    "print('Текст:', t)\n",
    "print('Вектор:', count_vectorizer.transform([t]).toarray())\n"
   ]
  },
  {
   "cell_type": "markdown",
   "metadata": {},
   "source": [
    "Для удобного отображения \"точек\" текстов на графике, мы можем снизить размерность выходного вектора методом главных компонент. Снизим размерность до 2 и отобразим на графике несколько текстов:"
   ]
  },
  {
   "cell_type": "code",
   "execution_count": 28,
   "metadata": {},
   "outputs": [
    {
     "data": {
      "image/png": "[encoded data removed]",
      "text/plain": [
       "<Figure size 720x720 with 1 Axes>"
      ]
     },
     "metadata": {},
     "output_type": "display_data"
    }
   ],
   "source": [
    "texts = corpora[:15]\n",
    "text_vects = [count_vectorizer.transform([t]).toarray()[0] for t in texts]\n",
    "tv_r = PCA(n_components=2).fit(text_vects).transform(text_vects)\n",
    "xs = [xy[0] for xy in tv_r]\n",
    "ys = [xy[1] for xy in tv_r]\n",
    "\n",
    "fig, ax = plt.subplots(figsize=(10, 10))\n",
    "ax.scatter(xs, ys)\n",
    "for i, t in enumerate(texts):\n",
    "    ax.annotate(t, (xs[i], ys[i]))\n"
   ]
  },
  {
   "cell_type": "markdown",
   "metadata": {},
   "source": [
    "На графике видно, что тексты с похожими словами (частотами слов) находятся близко друг к другу. Мы можем говорить, что сочетания слов в тексте отражают смысл текста. И более того, смысл текста меняется в зависимости от \"соседей\" (слов, совместно с которыми оно употребляется). Так в тексте \"деревянный гриф\" скорее всего имеется в виду гриф гитары, а \"низко летит гриф\" - птица.  \n",
    "\n",
    "<img src=\"https://upload.wikimedia.org/wikipedia/commons/f/fd/Classical_Guitar_labelled_russian.jpg\" alt=\"guitar\" width=\"200\"/>\n",
    "<img src=\"https://upload.wikimedia.org/wikipedia/commons/thumb/e/e4/Gyps_bengalensis_by_Ravi_Sangeetha_%28cropped%29.jpg/1024px-Gyps_bengalensis_by_Ravi_Sangeetha_%28cropped%29.jpg\" alt=\"gyps\" width=\"100\"/>\n"
   ]
  },
  {
   "cell_type": "markdown",
   "metadata": {},
   "source": [
    "Для того, чтобы определить меру близости, мы можем вычислить расстояние между 2 векторами текстов.  \n",
    "В качестве меры расстояния возьмем [Евклидово расстояние](https://ru.wikipedia.org/wiki/Евклидова_метрика).  \n",
    "Для того, чтобы найти текст, наиболее похожий на заданный, мы можем вычислить вектора всех текстов в \"базе\" и вектор анализируемого текста, далее вычислим расстояние от заданного вектора до каждого вектора в базе.  "
   ]
  },
  {
   "cell_type": "code",
   "execution_count": 68,
   "metadata": {},
   "outputs": [
    {
     "name": "stdout",
     "output_type": "stream",
     "text": [
      "Анализируемый текст: размерность векторного пространства\n",
      "сосед                              \tрасстояние\n",
      "размерность векторного пространства\t0.0\n",
      "расстояние                         \t2.0\n",
      "привет                             \t2.0\n",
      "что такое подпространство          \t2.449489742783178\n",
      "матрица перехода к новому базису   \t2.6457513110645907\n",
      "------------------------------------------------------------\n",
      "Анализируемый текст: расстояние\n",
      "сосед                              \tрасстояние\n",
      "размерность векторного пространства\t2.0\n",
      "расстояние                         \t0.0\n",
      "привет                             \t1.4142135623730951\n",
      "что такое подпространство          \t2.0\n",
      "матрица перехода к новому базису   \t2.23606797749979\n",
      "------------------------------------------------------------\n",
      "Анализируемый текст: привет\n",
      "сосед                              \tрасстояние\n",
      "размерность векторного пространства\t2.0\n",
      "расстояние                         \t1.4142135623730951\n",
      "привет                             \t0.0\n",
      "что такое подпространство          \t2.0\n",
      "матрица перехода к новому базису   \t2.23606797749979\n",
      "------------------------------------------------------------\n",
      "Анализируемый текст: что такое подпространство\n",
      "сосед                              \tрасстояние\n",
      "размерность векторного пространства\t2.449489742783178\n",
      "расстояние                         \t2.0\n",
      "привет                             \t2.0\n",
      "что такое подпространство          \t0.0\n",
      "матрица перехода к новому базису   \t2.6457513110645907\n",
      "------------------------------------------------------------\n",
      "Анализируемый текст: матрица перехода к новому базису\n",
      "сосед                              \tрасстояние\n",
      "размерность векторного пространства\t2.6457513110645907\n",
      "расстояние                         \t2.23606797749979\n",
      "привет                             \t2.23606797749979\n",
      "что такое подпространство          \t2.6457513110645907\n",
      "матрица перехода к новому базису   \t0.0\n",
      "------------------------------------------------------------\n"
     ]
    }
   ],
   "source": [
    "text_vects = [count_vectorizer.transform([t]).toarray() for t in corpora]\n",
    "# зададим несколько текстов для анализа\n",
    "texts = corpora[:5]\n",
    "n_neighbors = 5\n",
    "\n",
    "for t in texts:\n",
    "    v = count_vectorizer.transform([t]).toarray()\n",
    "    distances = [euclidean_distances(v, tv)[0][0] for tv in text_vects]\n",
    "    d_sorted = np.argsort(distances) # возвращается индексы значений отсортированного массива\n",
    "\n",
    "    print('Анализируемый текст:', t)\n",
    "    print('сосед'.ljust(35), 'расстояние', sep='\\t')\n",
    "    for i in range(n_neighbors):\n",
    "        print(corpora[i].ljust(35),  distances[i], sep='\\t')\n",
    "    print('-'*60)\n",
    "\n",
    "\n"
   ]
  },
  {
   "cell_type": "markdown",
   "metadata": {},
   "source": [
    "# Выводы:  \n",
    "* Представление текста в виде вектора может быть удобным для различных задач машинного обучения, в том числе для анализа степени схожеси 2 текстов.  "
   ]
  }
 ],
 "metadata": {
  "interpreter": {
   "hash": "aeea92d5cbc7b4733b7a0b2ebc427ac21a58cceab802504a0dd243d8ac63dc4a"
  },
  "kernelspec": {
   "display_name": "Python 3.7.5 64-bit ('env': venv)",
   "language": "python",
   "name": "python3"
  },
  "language_info": {
   "codemirror_mode": {
    "name": "ipython",
    "version": 3
   },
   "file_extension": ".py",
   "mimetype": "text/x-python",
   "name": "python",
   "nbconvert_exporter": "python",
   "pygments_lexer": "ipython3",
   "version": "3.7.8"
  },
  "orig_nbformat": 4
 },
 "nbformat": 4,
 "nbformat_minor": 2
}
