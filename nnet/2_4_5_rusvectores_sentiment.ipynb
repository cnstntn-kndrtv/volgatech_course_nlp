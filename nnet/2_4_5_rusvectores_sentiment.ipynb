{
 "cells": [
  {
   "cell_type": "markdown",
   "metadata": {},
   "source": [
    "# 2.4.5. Использование обученных моделей RusVectōrēs для классификации текста.  \n",
    "\n",
    "\n",
    "Видеоуроки:  \n",
    "2.4.1. Векторное представление единиц текста.  \n",
    "2.4.2. Обучение нейросетевой модели word2vec.  \n",
    "2.4.3. Использование обученных моделей RusVectōrēs.  \n",
    "2.4.4. Нейросетевая модель torch.embedding.  \n",
    "\n",
    "Дополнительные материалы:  \n",
    "**2.4.5. Использование обученных моделей RusVectōrēs для классификации (анализа тональности) текста.**  \n",
    "2.4.6. Использование моделей Hugging Face для классификации (анализа тональности) текста.  "
   ]
  },
  {
   "cell_type": "markdown",
   "metadata": {},
   "source": [
    "В предыдущей теме мы рассмотрели сервис [RusVectōrēs](https://rusvectores.org/ru/about/), который вычисляет семантические отношения между словами русского языка и позволяет скачать предобученные дистрибутивно-семантические модели (word embeddings).  \n",
    "\n",
    "В данной теме применим готовые модели для классификации текстов новостей.  \n",
    "Для примера рассмотрим датасет новостей, собранных из различных новостных сайтов и размеченный вручную.  \n",
    "Страница ресурса: https://www.kaggle.com/c/sentiment-analysis-in-russian  \n",
    "Так же датасет можно скачать из другого источника - https://data.mendeley.com/datasets/m4ndy7tcss/2  \n",
    "Во втором случае нужен файл `sentiment-analysis-in-russian-lemmatized-topic.zip` - скачайте и распакуйте архив вручную.  "
   ]
  },
  {
   "cell_type": "code",
   "execution_count": 78,
   "metadata": {},
   "outputs": [],
   "source": [
    "import warnings\n",
    "import logging\n",
    "from functools import partial\n",
    "import zipfile\n",
    "from time import time\n",
    "import wget\n",
    "import pandas as pd\n",
    "import numpy as np\n",
    "import matplotlib.pyplot as plt\n",
    "import gensim\n",
    "from sklearn.model_selection import train_test_split\n",
    "from sklearn.base import BaseEstimator\n",
    "from sklearn import metrics\n",
    "from sklearn.svm import LinearSVC\n",
    "from sklearn.linear_model import Perceptron\n",
    "from sklearn.neighbors import KNeighborsClassifier\n",
    "from sklearn.ensemble import RandomForestClassifier\n",
    "from sklearn.linear_model import LogisticRegression\n",
    "from sklearn.utils import resample\n",
    "from utils import reset_random_seeds\n",
    "\n",
    "RANDOM_SEED = 42\n",
    "reset_random_seeds(RANDOM_SEED)\n",
    "plt.style.use('ggplot')\n",
    "logging.basicConfig(format='%(asctime)s : %(levelname)s : %(message)s', level=logging.INFO)\n",
    "warnings.filterwarnings('ignore')"
   ]
  },
  {
   "cell_type": "code",
   "execution_count": 158,
   "metadata": {},
   "outputs": [
    {
     "name": "stdout",
     "output_type": "stream",
     "text": [
      "sentiment-analysis-in-russian-lemmatized-topic.csv\n"
     ]
    }
   ],
   "source": [
    "! ls ./data/sentiment"
   ]
  },
  {
   "cell_type": "code",
   "execution_count": 159,
   "metadata": {},
   "outputs": [
    {
     "data": {
      "text/html": [
       "<div>\n",
       "<style scoped>\n",
       "    .dataframe tbody tr th:only-of-type {\n",
       "        vertical-align: middle;\n",
       "    }\n",
       "\n",
       "    .dataframe tbody tr th {\n",
       "        vertical-align: top;\n",
       "    }\n",
       "\n",
       "    .dataframe thead th {\n",
       "        text-align: right;\n",
       "    }\n",
       "</style>\n",
       "<table border=\"1\" class=\"dataframe\">\n",
       "  <thead>\n",
       "    <tr style=\"text-align: right;\">\n",
       "      <th></th>\n",
       "      <th>text</th>\n",
       "      <th>id</th>\n",
       "      <th>sentiment</th>\n",
       "      <th>Lemmed text</th>\n",
       "      <th>Topic label normalized</th>\n",
       "    </tr>\n",
       "  </thead>\n",
       "  <tbody>\n",
       "    <tr>\n",
       "      <th>0</th>\n",
       "      <td>Досудебное расследование по факту покупки ЕНПФ...</td>\n",
       "      <td>1945</td>\n",
       "      <td>negative</td>\n",
       "      <td>досудебный расследование по факт покупка енпф ...</td>\n",
       "      <td>fin</td>\n",
       "    </tr>\n",
       "    <tr>\n",
       "      <th>1</th>\n",
       "      <td>Медики рассказали о состоянии пострадавшего му...</td>\n",
       "      <td>1957</td>\n",
       "      <td>negative</td>\n",
       "      <td>медик рассказать о состояние пострадавший мужч...</td>\n",
       "      <td>accid</td>\n",
       "    </tr>\n",
       "    <tr>\n",
       "      <th>2</th>\n",
       "      <td>Прошел почти год, как железнодорожным оператор...</td>\n",
       "      <td>1969</td>\n",
       "      <td>negative</td>\n",
       "      <td>пройти почти год как железнодорожный оператор ...</td>\n",
       "      <td>kz</td>\n",
       "    </tr>\n",
       "    <tr>\n",
       "      <th>3</th>\n",
       "      <td>По итогам 12 месяцев 2016 года на территории р...</td>\n",
       "      <td>1973</td>\n",
       "      <td>negative</td>\n",
       "      <td>по итог месяц год на территория республика вып...</td>\n",
       "      <td>fin</td>\n",
       "    </tr>\n",
       "    <tr>\n",
       "      <th>4</th>\n",
       "      <td>Астана. 21 ноября. Kazakhstan Today - Агентств...</td>\n",
       "      <td>1975</td>\n",
       "      <td>negative</td>\n",
       "      <td>астан ноябрь агентство рк по дело государствен...</td>\n",
       "      <td>kz</td>\n",
       "    </tr>\n",
       "  </tbody>\n",
       "</table>\n",
       "</div>"
      ],
      "text/plain": [
       "                                                text    id sentiment  \\\n",
       "0  Досудебное расследование по факту покупки ЕНПФ...  1945  negative   \n",
       "1  Медики рассказали о состоянии пострадавшего му...  1957  negative   \n",
       "2  Прошел почти год, как железнодорожным оператор...  1969  negative   \n",
       "3  По итогам 12 месяцев 2016 года на территории р...  1973  negative   \n",
       "4  Астана. 21 ноября. Kazakhstan Today - Агентств...  1975  negative   \n",
       "\n",
       "                                         Lemmed text Topic label normalized  \n",
       "0  досудебный расследование по факт покупка енпф ...                    fin  \n",
       "1  медик рассказать о состояние пострадавший мужч...                  accid  \n",
       "2  пройти почти год как железнодорожный оператор ...                     kz  \n",
       "3  по итог месяц год на территория республика вып...                    fin  \n",
       "4  астан ноябрь агентство рк по дело государствен...                     kz  "
      ]
     },
     "execution_count": 159,
     "metadata": {},
     "output_type": "execute_result"
    }
   ],
   "source": [
    "df_src = pd.read_csv('./data/sentiment/sentiment-analysis-in-russian-lemmatized-topic.csv', sep=';', encoding='utf-8')\n",
    "df_src.head()"
   ]
  },
  {
   "cell_type": "code",
   "execution_count": 160,
   "metadata": {},
   "outputs": [
    {
     "name": "stdout",
     "output_type": "stream",
     "text": [
      "<class 'pandas.core.frame.DataFrame'>\n",
      "RangeIndex: 8263 entries, 0 to 8262\n",
      "Data columns (total 5 columns):\n",
      " #   Column                  Non-Null Count  Dtype \n",
      "---  ------                  --------------  ----- \n",
      " 0   text                    8263 non-null   object\n",
      " 1   id                      8263 non-null   int64 \n",
      " 2   sentiment               8263 non-null   object\n",
      " 3   Lemmed text             8263 non-null   object\n",
      " 4   Topic label normalized  8263 non-null   object\n",
      "dtypes: int64(1), object(4)\n",
      "memory usage: 322.9+ KB\n"
     ]
    }
   ],
   "source": [
    "df_src.info()"
   ]
  },
  {
   "cell_type": "code",
   "execution_count": 161,
   "metadata": {},
   "outputs": [
    {
     "data": {
      "image/png": "[encoded data removed]",
      "text/plain": [
       "<Figure size 432x288 with 1 Axes>"
      ]
     },
     "metadata": {},
     "output_type": "display_data"
    },
    {
     "data": {
      "text/plain": [
       "neutral     4034\n",
       "positive    2795\n",
       "negative    1434\n",
       "Name: sentiment, dtype: int64"
      ]
     },
     "execution_count": 161,
     "metadata": {},
     "output_type": "execute_result"
    }
   ],
   "source": [
    "Y_COL = 'sentiment'\n",
    "TEXT_COL = 'text'\n",
    "df_src[Y_COL].hist()\n",
    "plt.show()\n",
    "\n",
    "df_src[Y_COL].value_counts()"
   ]
  },
  {
   "cell_type": "markdown",
   "metadata": {},
   "source": [
    "Мы видим сильно несбаллансированы данные - модель может переобучаться (может всегда давать ответ \"нейтральный\") и будет права в большинстве случаев.  \n",
    "Применим самый простой подход - undersampling (уменьшим количество примеров классов).  \n"
   ]
  },
  {
   "cell_type": "code",
   "execution_count": 148,
   "metadata": {},
   "outputs": [
    {
     "name": "stdout",
     "output_type": "stream",
     "text": [
      "min n: 1434\n",
      "min label: negative\n"
     ]
    },
    {
     "data": {
      "image/png": "[encoded data removed]",
      "text/plain": [
       "<Figure size 432x288 with 1 Axes>"
      ]
     },
     "metadata": {},
     "output_type": "display_data"
    },
    {
     "data": {
      "text/plain": [
       "negative    1434\n",
       "neutral     1434\n",
       "positive    1434\n",
       "Name: sentiment, dtype: int64"
      ]
     },
     "execution_count": 148,
     "metadata": {},
     "output_type": "execute_result"
    }
   ],
   "source": [
    "vc = df_src[Y_COL].value_counts()\n",
    "min_n = vc.min()\n",
    "\n",
    "min_label = vc[vc == min_n].index[0]\n",
    "\n",
    "print('min n:', min_n)\n",
    "print('min label:', min_label)\n",
    "\n",
    "df = df_src[df_src[Y_COL] == min_label]\n",
    "\n",
    "for label, n in df_src[Y_COL].value_counts().items():\n",
    "    if label != min_label:\n",
    "        _df = resample(df_src[df_src[Y_COL] == label], replace=False, n_samples=min_n, random_state=RANDOM_SEED)\n",
    "        df = pd.concat([df, _df], ignore_index=True)\n",
    "\n",
    "df.reset_index(drop=True, inplace=True)\n",
    "\n",
    "df[Y_COL].hist()\n",
    "plt.show()\n",
    "df[Y_COL].value_counts()"
   ]
  },
  {
   "cell_type": "markdown",
   "metadata": {},
   "source": [
    "В данных могут встречаться редкие слова (например фамилии). Целесообразно использовать модель на основе fasttext.  "
   ]
  },
  {
   "cell_type": "code",
   "execution_count": 149,
   "metadata": {},
   "outputs": [],
   "source": [
    "MODEL_FT_URL = 'http://vectors.nlpl.eu/repository/20/181.zip'\n",
    "\n",
    "model_arch_file = MODEL_FT_URL.split('/')[-1]\n",
    "model_path = model_arch_file.split('.')[0]"
   ]
  },
  {
   "cell_type": "code",
   "execution_count": 150,
   "metadata": {},
   "outputs": [],
   "source": [
    "# Скачивание модели.\n",
    "# размер файла - 2,6 Gb.\n",
    "# Не выполняйте этот код повторно, если модель уже скачана и распакована.\n",
    "\n",
    "# _ = wget.download(MODEL_FT_URL)\n",
    "# print(f'extract {model_arch_file} to path: {model_path}')\n",
    "# with zipfile.ZipFile(model_file, 'r') as archive:\n",
    "#     zipfile.ZipFile.extractall(archive, model_path)"
   ]
  },
  {
   "cell_type": "code",
   "execution_count": 151,
   "metadata": {},
   "outputs": [
    {
     "name": "stderr",
     "output_type": "stream",
     "text": [
      "2022-01-19 19:13:00,403 : INFO : loading Word2VecKeyedVectors object from 181/model.model\n",
      "2022-01-19 19:13:01,722 : INFO : loading vectors_vocab from 181/model.model.vectors_vocab.npy with mmap=None\n",
      "2022-01-19 19:13:02,072 : INFO : loading vectors_ngrams from 181/model.model.vectors_ngrams.npy with mmap=None\n",
      "2022-01-19 19:13:05,167 : INFO : loading vectors from 181/model.model.vectors.npy with mmap=None\n",
      "2022-01-19 19:13:05,467 : INFO : setting ignored attribute vectors_vocab_norm to None\n",
      "2022-01-19 19:13:05,477 : INFO : setting ignored attribute buckets_word to None\n",
      "2022-01-19 19:13:05,481 : INFO : setting ignored attribute vectors_norm to None\n",
      "2022-01-19 19:13:05,485 : INFO : setting ignored attribute vectors_ngrams_norm to None\n",
      "2022-01-19 19:13:05,485 : INFO : loaded 181/model.model\n"
     ]
    }
   ],
   "source": [
    "model_ft = gensim.models.KeyedVectors.load(f'{model_path}/model.model')"
   ]
  },
  {
   "cell_type": "markdown",
   "metadata": {},
   "source": [
    "Модель может выдавать вектор слова."
   ]
  },
  {
   "cell_type": "code",
   "execution_count": 28,
   "metadata": {},
   "outputs": [
    {
     "name": "stdout",
     "output_type": "stream",
     "text": [
      "размер вектора: 300\n"
     ]
    }
   ],
   "source": [
    "word = 'привет'\n",
    "v = model_ft.get_vector('привет')\n",
    "print('размер вектора:', v.size)"
   ]
  },
  {
   "cell_type": "markdown",
   "metadata": {},
   "source": [
    "для того чтобы получить вектор текста - усредним вектора всех слов э того текста."
   ]
  },
  {
   "cell_type": "code",
   "execution_count": 30,
   "metadata": {},
   "outputs": [
    {
     "name": "stdout",
     "output_type": "stream",
     "text": [
      "размер вектора: 300\n"
     ]
    }
   ],
   "source": [
    "def get_text_vector(text: str, model: gensim.models.KeyedVectors) -> np.array:\n",
    "    \"\"\"\n",
    "    Получить усредненный вектор слов текста.\n",
    "\n",
    "    Args:\n",
    "        text (str): текст.\n",
    "        model (gensim.models.KeyedVectors): модель.\n",
    "\n",
    "    Returns:\n",
    "        np.array: результат.\n",
    "    \"\"\"\n",
    "\n",
    "    tokens = text.split()\n",
    "    v = np.mean([model.get_vector(t) for t in tokens], axis=0)\n",
    "\n",
    "    return v\n",
    "\n",
    "print('размер вектора:', get_text_vector('хливкие шорьки', model_ft).size)"
   ]
  },
  {
   "cell_type": "markdown",
   "metadata": {},
   "source": [
    "Наш классификатор будет состоять из 2 последовательных шагов (слоёв):  \n",
    "- векторизация  \n",
    "- классификация  \n",
    "\n",
    "Векторизация будет выполнена с помощью модели RusVectores. Далее нужно подобрать оптимальный классификатор.  \n",
    "Так как шаг векторизации всегда одинаковый - сохраним вектора текстов в датасет, чтобы не повторять эту операцию. Это позволит ускорить процесс обучения. В нашем случае мы остановили выбор на одной модели векторизации, в реальных задачах можно порвести эксперимент с разными векторизаторами. В этом случае можно, или добавить подготовленные результаты в разные колонки датасета, или векоризовать текст на лету (что немного дольше).  \n",
    "\n"
   ]
  },
  {
   "cell_type": "code",
   "execution_count": 153,
   "metadata": {},
   "outputs": [],
   "source": [
    "X_COL = 'text_vect'\n",
    "df[X_COL] = df[TEXT_COL].apply(partial(get_text_vector, model=model_ft))"
   ]
  },
  {
   "cell_type": "code",
   "execution_count": 154,
   "metadata": {},
   "outputs": [
    {
     "data": {
      "text/html": [
       "<div>\n",
       "<style scoped>\n",
       "    .dataframe tbody tr th:only-of-type {\n",
       "        vertical-align: middle;\n",
       "    }\n",
       "\n",
       "    .dataframe tbody tr th {\n",
       "        vertical-align: top;\n",
       "    }\n",
       "\n",
       "    .dataframe thead th {\n",
       "        text-align: right;\n",
       "    }\n",
       "</style>\n",
       "<table border=\"1\" class=\"dataframe\">\n",
       "  <thead>\n",
       "    <tr style=\"text-align: right;\">\n",
       "      <th></th>\n",
       "      <th>text</th>\n",
       "      <th>id</th>\n",
       "      <th>sentiment</th>\n",
       "      <th>Lemmed text</th>\n",
       "      <th>Topic label normalized</th>\n",
       "      <th>text_vect</th>\n",
       "    </tr>\n",
       "  </thead>\n",
       "  <tbody>\n",
       "    <tr>\n",
       "      <th>0</th>\n",
       "      <td>Досудебное расследование по факту покупки ЕНПФ...</td>\n",
       "      <td>1945</td>\n",
       "      <td>negative</td>\n",
       "      <td>досудебный расследование по факт покупка енпф ...</td>\n",
       "      <td>fin</td>\n",
       "      <td>[0.04623654, -0.042117503, 0.10681366, 0.06077...</td>\n",
       "    </tr>\n",
       "  </tbody>\n",
       "</table>\n",
       "</div>"
      ],
      "text/plain": [
       "                                                text    id sentiment  \\\n",
       "0  Досудебное расследование по факту покупки ЕНПФ...  1945  negative   \n",
       "\n",
       "                                         Lemmed text Topic label normalized  \\\n",
       "0  досудебный расследование по факт покупка енпф ...                    fin   \n",
       "\n",
       "                                           text_vect  \n",
       "0  [0.04623654, -0.042117503, 0.10681366, 0.06077...  "
      ]
     },
     "execution_count": 154,
     "metadata": {},
     "output_type": "execute_result"
    }
   ],
   "source": [
    "df.head(1)"
   ]
  },
  {
   "cell_type": "code",
   "execution_count": 155,
   "metadata": {},
   "outputs": [
    {
     "name": "stdout",
     "output_type": "stream",
     "text": [
      "LABELS: ['negative' 'neutral' 'positive']\n"
     ]
    }
   ],
   "source": [
    "xs = list(df[X_COL].values)\n",
    "ys = list(df[Y_COL].values)\n",
    "LABELS = df[Y_COL].unique()\n",
    "print('LABELS:', LABELS)\n",
    "\n",
    "X_train, X_test, y_train, y_test = train_test_split(xs, ys, test_size=.2, random_state=RANDOM_SEED, stratify=ys)"
   ]
  },
  {
   "cell_type": "markdown",
   "metadata": {},
   "source": [
    "Теперь подберем классификатор. Так как библиотека `scikit-learn` (так же как и `gensim`) предоставляет универсальный API (все классы наследуются от `BaseEstimator`) - мы можем использовать единую функцию для обучения и тестирования классификатора.  "
   ]
  },
  {
   "cell_type": "code",
   "execution_count": 156,
   "metadata": {},
   "outputs": [],
   "source": [
    "def benchmark(clf: BaseEstimator):\n",
    "    \"\"\"\n",
    "    Обучение и тестирование классификатора.\n",
    "\n",
    "    Args:\n",
    "        clf (BaseEstimator): классификатор.\n",
    "    \"\"\"\n",
    "\n",
    "    print('_' * 30)\n",
    "    print('Training: ')\n",
    "    print(clf)\n",
    "    t0 = time()\n",
    "    clf.fit(X_train, y_train)\n",
    "    train_time = time() - t0\n",
    "    print('train time: %0.3f' % train_time)\n",
    "\n",
    "    t0 = time()\n",
    "    pred = clf.predict(X_test)\n",
    "    test_time = time() - t0\n",
    "    print('test time:  %0.3fs' % test_time)\n",
    "\n",
    "    acc = metrics.accuracy_score(y_test, pred)\n",
    "    f1 = metrics.f1_score(y_test, pred, average='weighted')\n",
    "    print('accuracy: %0.3f' % acc)\n",
    "    print('f1: %0.3f' % f1)\n",
    "\n",
    "    print('confusion matrix:')\n",
    "    cm = metrics.ConfusionMatrixDisplay(metrics.confusion_matrix(y_test, pred), display_labels=LABELS)\n",
    "    cm.plot()\n",
    "    plt.show()\n",
    "\n",
    "    print()\n",
    "\n",
    "    clf_desc = str(clf).split(\"(\")[0]\n",
    "    return clf_desc, acc, f1, train_time, test_time\n"
   ]
  },
  {
   "cell_type": "code",
   "execution_count": 157,
   "metadata": {},
   "outputs": [
    {
     "name": "stdout",
     "output_type": "stream",
     "text": [
      "______________________________\n",
      "Training: \n",
      "Perceptron(max_iter=50)\n",
      "train time: 0.376\n",
      "test time:  0.035s\n",
      "accuracy: 0.508\n",
      "f1: 0.442\n",
      "confusion matrix:\n"
     ]
    },
    {
     "data": {
      "image/png": "[encoded data removed]",
      "text/plain": [
       "<Figure size 432x288 with 2 Axes>"
      ]
     },
     "metadata": {},
     "output_type": "display_data"
    },
    {
     "name": "stdout",
     "output_type": "stream",
     "text": [
      "\n",
      "______________________________\n",
      "Training: \n",
      "LinearSVC()\n",
      "train time: 0.898\n",
      "test time:  0.004s\n",
      "accuracy: 0.674\n",
      "f1: 0.658\n",
      "confusion matrix:\n"
     ]
    },
    {
     "data": {
      "image/png": "[encoded data removed]",
      "text/plain": [
       "<Figure size 432x288 with 2 Axes>"
      ]
     },
     "metadata": {},
     "output_type": "display_data"
    },
    {
     "name": "stdout",
     "output_type": "stream",
     "text": [
      "\n",
      "______________________________\n",
      "Training: \n",
      "LogisticRegression()\n",
      "train time: 0.387\n",
      "test time:  0.004s\n",
      "accuracy: 0.635\n",
      "f1: 0.626\n",
      "confusion matrix:\n"
     ]
    },
    {
     "data": {
      "image/png": "[encoded data removed]",
      "text/plain": [
       "<Figure size 432x288 with 2 Axes>"
      ]
     },
     "metadata": {},
     "output_type": "display_data"
    },
    {
     "name": "stdout",
     "output_type": "stream",
     "text": [
      "\n",
      "______________________________\n",
      "Training: \n",
      "KNeighborsClassifier()\n",
      "train time: 0.012\n",
      "test time:  0.170s\n",
      "accuracy: 0.630\n",
      "f1: 0.620\n",
      "confusion matrix:\n"
     ]
    },
    {
     "data": {
      "image/png": "[encoded data removed]",
      "text/plain": [
       "<Figure size 432x288 with 2 Axes>"
      ]
     },
     "metadata": {},
     "output_type": "display_data"
    },
    {
     "name": "stdout",
     "output_type": "stream",
     "text": [
      "\n",
      "______________________________\n",
      "Training: \n",
      "RandomForestClassifier()\n",
      "train time: 3.521\n",
      "test time:  0.043s\n",
      "accuracy: 0.625\n",
      "f1: 0.620\n",
      "confusion matrix:\n"
     ]
    },
    {
     "data": {
      "image/png": "[encoded data removed]",
      "text/plain": [
       "<Figure size 432x288 with 2 Axes>"
      ]
     },
     "metadata": {},
     "output_type": "display_data"
    },
    {
     "name": "stdout",
     "output_type": "stream",
     "text": [
      "\n"
     ]
    }
   ],
   "source": [
    "classifiers = [\n",
    "    Perceptron(max_iter=50),\n",
    "    LinearSVC(),\n",
    "    LogisticRegression(),\n",
    "    KNeighborsClassifier(),\n",
    "    RandomForestClassifier(),\n",
    "]\n",
    "\n",
    "results = []\n",
    "for clf in classifiers:\n",
    "    results.append(benchmark(clf))"
   ]
  },
  {
   "cell_type": "markdown",
   "metadata": {},
   "source": [
    "# Выводы \n",
    "\n",
    "- Мы использовали предобученные модели и получили какой-то базовый результат. На практике нужно использовать различные модели (например в этой задаче классифицируются тексты новостей, соответственно было бы целесообразно использовать модели, обученные не на Национальном Корпусе Русского Языка, а на Новостном корпусе, на корпусе Тайга, возможно их комбинациях, в том числе сочетание с Wikipedia).  \n",
    "- Основной плюс от использования моделей, предобученных на больших корпусах - возможность работы со словами, которых не было в обучающих выборках, когда данных для обучения недостаточно, а так же когда входные данные могут измениться в процессе эксплуатации модели.  \n",
    "- В следующей теме рассмотрим использование моделей RusVectores на других задачах.  "
   ]
  }
 ],
 "metadata": {
  "interpreter": {
   "hash": "aeea92d5cbc7b4733b7a0b2ebc427ac21a58cceab802504a0dd243d8ac63dc4a"
  },
  "kernelspec": {
   "display_name": "Python 3.7.5 64-bit ('env': venv)",
   "language": "python",
   "name": "python3"
  },
  "language_info": {
   "codemirror_mode": {
    "name": "ipython",
    "version": 3
   },
   "file_extension": ".py",
   "mimetype": "text/x-python",
   "name": "python",
   "nbconvert_exporter": "python",
   "pygments_lexer": "ipython3",
   "version": "3.7.8"
  },
  "orig_nbformat": 4
 },
 "nbformat": 4,
 "nbformat_minor": 2
}
