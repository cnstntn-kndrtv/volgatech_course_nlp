{
 "cells": [
  {
   "cell_type": "markdown",
   "metadata": {},
   "source": [
    "# 2.4.3. Использование обученных моделей RusVectōrēs.\n",
    "\n",
    "\n",
    "Видеоуроки:  \n",
    "2.4.1. Векторное представление единиц текста.  \n",
    "2.4.2. Обучение нейросетевой модели word2vec.  \n",
    "**2.4.3. Использование обученных моделей RusVectōrēs.**  \n",
    "2.4.4. Нейросетевая модель torch.embedding.  \n",
    "\n",
    "Дополнительные материалы:  \n",
    "2.4.5. Использование обученных моделей RusVectōrēs для классификации (анализа тональности) текста.  \n",
    "2.4.6. Использование моделей Hugging Face для классификации (анализа тональности) текста.  "
   ]
  },
  {
   "cell_type": "markdown",
   "metadata": {},
   "source": [
    "## О проекте RusVectōrēs"
   ]
  },
  {
   "cell_type": "markdown",
   "metadata": {},
   "source": [
    "Сервис [RusVectōrēs](https://rusvectores.org/ru/about/) вычисляет семантические отношения между словами русского языка и позволяет скачать предобученные дистрибутивно-семантические модели (word embeddings).  \n",
    "\n",
    "> Обучение дистрибутивных моделей на основе больших корпусов может требовать существенных вычислительных мощностей. Поэтому важно предоставить русскоязычному лингвистическому сообществу доступ к предобученным моделям. Наш сервис дает пользователям готовые модели для скачивания (чтобы продолжить эксперименты на своём компьютере), а также удобный интерфейс запросов к ним. Также возможно визуализировать семантические отношения между словами, что, как мы надеемся, будет полезным для исследователей. В целом, задача нашего сервиса — снизить порог входа для тех, кто хочет работать в этом новом и интересном направлении.\n",
    "  \n",
    "Выбрав модель, вы можете:\n",
    "\n",
    "1. вычислять семантическое сходство между парами слов;  \n",
    "2. находить слова, ближайшие к данному (с возможностью фильтрации по части речи и частотности);  \n",
    "3. решать аналогии вида «найти слово X, которое так относится к слову Y, как слово A относится к слову B»;  \n",
    "4. выполнять над векторами слов алгебраические операции (сложение, вычитание, поиск центра лексического кластера и расстояний до этого центра).\n",
    "5. рисовать семантические карты отношений между словами (это позволяет выявлять семантические кластеры или тестировать ваши гипотезы о таких кластерах);  \n",
    "6. получать вектор (в виде массива чисел) и его визуализацию для данного слова в выбранной модели: для этого нужно кликнуть по любому слову или использовать уникальный адрес этого слова, как описано ниже;  \n",
    "7. генерировать контекстно-зависимые лексические подстановки для контекстуализированных дистрибутивных моделей, например, ELMo;  \n",
    "8. скачать модель.  \n",
    "  \n",
    "Видео - https://youtu.be/wWG204boB5s  "
   ]
  },
  {
   "cell_type": "code",
   "execution_count": 1,
   "metadata": {},
   "outputs": [
    {
     "data": {
      "image/jpeg": "[encoded data removed]",
      "text/html": [
       "\n",
       "        <iframe\n",
       "            width=\"560\"\n",
       "            height=\"320\"\n",
       "            src=\"https://www.youtube.com/embed/wWG204boB5s\"\n",
       "            frameborder=\"0\"\n",
       "            allowfullscreen\n",
       "            \n",
       "        ></iframe>\n",
       "        "
      ],
      "text/plain": [
       "<IPython.lib.display.YouTubeVideo at 0x10ce19990>"
      ]
     },
     "execution_count": 1,
     "metadata": {},
     "output_type": "execute_result"
    }
   ],
   "source": [
    "from IPython.display import YouTubeVideo\n",
    "YouTubeVideo('wWG204boB5s', width=560, height=320)"
   ]
  },
  {
   "cell_type": "markdown",
   "metadata": {},
   "source": [
    "## Использование моделей RusVectōrēs.  \n",
    "  \n",
    "В основе RusVectores лежит библиотека [Gensim](https://radimrehurek.com/gensim/).  \n",
    "Gensim - изначально библиотека для тематического моделирования текстов. Однако помимо различных алгоритмов для topic modeling в ней реализованы на python и алгоритмы word2vec (который в оригинале был написан на C++).  "
   ]
  },
  {
   "cell_type": "code",
   "execution_count": 11,
   "metadata": {},
   "outputs": [],
   "source": [
    "from typing import List\n",
    "import gensim, logging\n",
    "import zipfile\n",
    "import wget\n",
    "import warnings\n",
    "\n",
    "# Уберем лишние предупреждения\n",
    "warnings.filterwarnings('ignore')\n",
    "# Поскольку обучение и загрузка моделей могут занимать продолжительное время, иногда бывает полезно вести лог событий.\n",
    "logging.basicConfig(format='%(asctime)s : %(levelname)s : %(message)s', level=logging.INFO)"
   ]
  },
  {
   "cell_type": "markdown",
   "metadata": {},
   "source": [
    "Если у вас есть достаточно большой корпус текстов - вы можете натренировать модель самостоятельно на своих данных. Но для общих целей есть смысл использовать готовые модели, натренированные на больших объемах текстов как русского так и английского языков. \n",
    "\n",
    "Модели для русского скачать можно здесь - https://rusvectores.org/ru/models/\n",
    "\n",
    "Существуют несколько форматов, в которых могут храниться модели - данные могут храниться в нативном формате word2vec, при этом модель может быть бинарной или не бинарной. Загрузка модели в формате word2vec в классе `KeyedVectors` (в котором хранится большинство относящихся к дистрибутивным моделям функций) осуществляется функцией `load_word2vec_format`, бинарность модели можно указать в аргументе `binary`. Помимо этого, модель можно хранить и в собственном формате gensim, для этого существует класс `Word2Vec` с функцией `load`.  \n",
    "\n",
    "Сейчас авторы перешли на загрузку с использованием инфраструктуры Nordic Language Processing Laboratory. По клику на модель скачивается zip-архив с уникальным числовым идентификатором (например, `180.zip`). Внутри архива всегда находится файл `meta.json`, содержащий в структурированном и стандартном виде информацию о модели и корпусе, на котором она обучена. word2vec-модели лежат в архивах сразу в двух word2vec-форматах: бинарном `model.bin` (удобен для быстрой загрузки) и текстовом `model.txt` (удобен для просмотра человеком).  "
   ]
  },
  {
   "cell_type": "markdown",
   "metadata": {},
   "source": [
    "### Word2Vec\n",
    "Давайте скачаем модель Word2Vec для русского языка, созданную на основе [Национального Корпуса Русского Языка (НКРЯ)](http://www.ruscorpora.ru/), и загрузим в её в память. Распаковывать скачанный архив для обычных моделей не нужно, так как его содержимое прочитается при помощи специальной инструкции:"
   ]
  },
  {
   "cell_type": "code",
   "execution_count": 2,
   "metadata": {},
   "outputs": [
    {
     "name": "stderr",
     "output_type": "stream",
     "text": [
      "2022-01-19 15:54:41,906 : INFO : loading projection weights from <zipfile.ZipExtFile name='model.bin' mode='r' compress_type=deflate>\n",
      "2022-01-19 15:54:44,926 : INFO : loaded (189193, 300) matrix from <zipfile.ZipExtFile [closed]>\n"
     ]
    }
   ],
   "source": [
    "MODEL_W2V_URL = 'http://vectors.nlpl.eu/repository/11/180.zip'\n",
    "\n",
    "# размер файла - 460 Mb.\n",
    "# Закомментируйте строку, если скачивали файл модели ранее.\n",
    "# m = wget.download(MODEL_W2V_URL)\n",
    "model_file = MODEL_W2V_URL.split('/')[-1]\n",
    "\n",
    "with zipfile.ZipFile(model_file, 'r') as archive:\n",
    "    stream = archive.open('model.bin')\n",
    "    model_w2v = gensim.models.KeyedVectors.load_word2vec_format(stream, binary=True)"
   ]
  },
  {
   "cell_type": "markdown",
   "metadata": {},
   "source": [
    "Проанализируем несколько слов.  \n",
    "В этой модели для каждого слова указывается часть речи. Подробнее о тегах частей речи можно почитать тут - https://universaldependencies.org/u/pos/all.html  \n",
    "`NOUN` - существительное,  \n",
    "`ADJ` - прилагательное,  \n",
    "`VERB` - глагол.  "
   ]
  },
  {
   "cell_type": "code",
   "execution_count": 42,
   "metadata": {},
   "outputs": [],
   "source": [
    "words = ['день_NOUN', 'ночь_NOUN', 'человек_NOUN', 'семантика_NOUN', 'студент_NOUN', 'студент_ADJ']"
   ]
  },
  {
   "cell_type": "markdown",
   "metadata": {},
   "source": [
    "Запросим у модели 5 ближайших соседей для каждого слова и коэффициент косинусной близости для каждого:"
   ]
  },
  {
   "cell_type": "code",
   "execution_count": 47,
   "metadata": {},
   "outputs": [],
   "source": [
    "def print_neighbors(words: List[str], model: gensim.models.KeyedVectors, top_n: int = 5):\n",
    "    \"\"\"\n",
    "    Печатаем семантически близкие слова.\n",
    "\n",
    "    Args:\n",
    "        words (List[str]): список слов, для которых нужно найти соседей.\n",
    "        model (gensim.models.KeyedVectors): модель gensim.\n",
    "        top_n (int): количество соседей. По умолчанию 5.\n",
    "    \"\"\"\n",
    "\n",
    "    col_width = 20\n",
    "    print(*[c.ljust(col_width) for c in ['Слово', 'Сосед', 'Коэффициент косинуссной близости']])\n",
    "    print('-'*col_width*3)\n",
    "\n",
    "    for word in words:\n",
    "        # есть ли слово в модели? Может быть, и нет.\n",
    "        if word in model:\n",
    "            # выдаем top_n ближайших соседей слова:\n",
    "            for i in model.most_similar(positive=[word], topn=top_n):\n",
    "                w2 = i[0]\n",
    "                d = round(i[1], 3)\n",
    "                print(word.ljust(col_width), w2.ljust(col_width), d)\n",
    "            print('')\n",
    "        else:\n",
    "            # Out of vocabulary\n",
    "            print(word + ' - OOV! 😒')"
   ]
  },
  {
   "cell_type": "code",
   "execution_count": 48,
   "metadata": {},
   "outputs": [
    {
     "name": "stdout",
     "output_type": "stream",
     "text": [
      "Слово                Сосед                Коэффициент косинуссной близости\n",
      "------------------------------------------------------------\n",
      "день_NOUN            неделя_NOUN          0.738\n",
      "день_NOUN            день_PROPN           0.707\n",
      "день_NOUN            месяц_NOUN           0.704\n",
      "день_NOUN            час_NOUN             0.664\n",
      "день_NOUN            утро_NOUN            0.653\n",
      "\n",
      "ночь_NOUN            ночь_PROPN           0.831\n",
      "ночь_NOUN            вечер_NOUN           0.718\n",
      "ночь_NOUN            рассвет_NOUN         0.697\n",
      "ночь_NOUN            ночи_NOUN            0.692\n",
      "ночь_NOUN            полночь_NOUN         0.67\n",
      "\n",
      "человек_NOUN         человек_PROPN        0.785\n",
      "человек_NOUN         человеческий_ADJ     0.592\n",
      "человек_NOUN         существо_NOUN        0.574\n",
      "человек_NOUN         народ_NOUN           0.535\n",
      "человек_NOUN         личность_NOUN        0.53\n",
      "\n",
      "семантика_NOUN       семантический_ADJ    0.802\n",
      "семантика_NOUN       синтаксический_ADJ   0.757\n",
      "семантика_NOUN       модальный_ADJ        0.73\n",
      "семантика_NOUN       семантически_ADV     0.721\n",
      "семантика_NOUN       смысловой_ADJ        0.716\n",
      "\n",
      "студент_NOUN         преподаватель_NOUN   0.674\n",
      "студент_NOUN         студенческий_ADJ     0.649\n",
      "студент_NOUN         университетский_ADJ  0.644\n",
      "студент_NOUN         заочник_NOUN         0.642\n",
      "студент_NOUN         первокурсник_NOUN    0.641\n",
      "\n",
      "студент_ADJ - OOV! 😒\n"
     ]
    }
   ],
   "source": [
    "print_neighbors(words, model_w2v, 5)"
   ]
  },
  {
   "cell_type": "markdown",
   "metadata": {},
   "source": [
    "Word2Vec не может обрабатывать слова, которых нет в словаре.  \n",
    "Давайте посмотрим, какие слова есть в словаре модели:  "
   ]
  },
  {
   "cell_type": "code",
   "execution_count": 17,
   "metadata": {},
   "outputs": [
    {
     "data": {
      "text/plain": [
       "['так_ADV',\n",
       " 'быть_VERB',\n",
       " 'мочь_VERB',\n",
       " 'год_NOUN',\n",
       " 'человек_NOUN',\n",
       " 'xxxxxx_NUM',\n",
       " 'сказать_VERB',\n",
       " 'еще_ADV',\n",
       " 'один_NUM',\n",
       " 'говорить_VERB']"
      ]
     },
     "execution_count": 17,
     "metadata": {},
     "output_type": "execute_result"
    }
   ],
   "source": [
    "model_w2v.index2word[:10]"
   ]
  },
  {
   "cell_type": "markdown",
   "metadata": {},
   "source": [
    "Косинусная близость пары слов."
   ]
  },
  {
   "cell_type": "code",
   "execution_count": 18,
   "metadata": {},
   "outputs": [
    {
     "name": "stdout",
     "output_type": "stream",
     "text": [
      "0.22025342\n"
     ]
    }
   ],
   "source": [
    "print(model_w2v.similarity('человек_NOUN', 'обезьяна_NOUN'))"
   ]
  },
  {
   "cell_type": "markdown",
   "metadata": {},
   "source": [
    "Найди лишнее слово."
   ]
  },
  {
   "cell_type": "code",
   "execution_count": 19,
   "metadata": {},
   "outputs": [
    {
     "name": "stdout",
     "output_type": "stream",
     "text": [
      "картофель_NOUN\n"
     ]
    }
   ],
   "source": [
    "print(model_w2v.doesnt_match('яблоко_NOUN груша_NOUN виноград_NOUN банан_NOUN лимон_NOUN картофель_NOUN'.split()))"
   ]
  },
  {
   "cell_type": "code",
   "execution_count": 20,
   "metadata": {},
   "outputs": [
    {
     "name": "stderr",
     "output_type": "stream",
     "text": [
      "2022-01-19 16:02:17,526 : WARNING : vectors for words {'германия_NOUN'} are not present in the model, ignoring these words\n"
     ]
    },
    {
     "name": "stdout",
     "output_type": "stream",
     "text": [
      "сельдь_NOUN\n"
     ]
    }
   ],
   "source": [
    "print(model_w2v.doesnt_match('сельдь_NOUN италия_NOUN германия_NOUN россия_NOUN'.split()))"
   ]
  },
  {
   "cell_type": "markdown",
   "metadata": {},
   "source": [
    "Борщ + Россия - Италия"
   ]
  },
  {
   "cell_type": "code",
   "execution_count": 21,
   "metadata": {},
   "outputs": [
    {
     "name": "stdout",
     "output_type": "stream",
     "text": [
      "суп_NOUN\n"
     ]
    }
   ],
   "source": [
    "print(model_w2v.most_similar(positive=['борщ_NOUN', 'россия_NOUN'], negative=['италия_NOUN'])[0][0])"
   ]
  },
  {
   "cell_type": "code",
   "execution_count": 22,
   "metadata": {},
   "outputs": [
    {
     "name": "stdout",
     "output_type": "stream",
     "text": [
      "антиоксидант_NOUN\n"
     ]
    }
   ],
   "source": [
    "print(model_w2v.most_similar(positive=['кофеин_NOUN', 'кофе_NOUN'], negative=['чай_NOUN'])[0][0])"
   ]
  },
  {
   "cell_type": "markdown",
   "metadata": {},
   "source": [
    "## FastText.  \n",
    "(FastText)[https://fasttext.cc] - библиотека для порведения различных операций с текстом. Нас интересует векторизация - в RusVectores можно скачать прдобученные модели в формате fasttext.  \n",
    "В отличии от Word2vec, fasttext обучается не на словах целиком, а на побуквенных Н-граммах, что позволяет обрабатывать слова, которых не было в обучающем корпусе (отсутствуют в словаре модели). Так каждое слово представляется комбинацией н-грамм из которых оно состоит. И, естественно, нет необходимости учитывать часть речи слова.  \n",
    "  \n",
    "Мы не будем использовать оригинальную библиотеку `fasttext`, вместо этого так же используем `gensim`.  \n",
    "Модели `fasttext` в новой версии `gensim` загружаются при помощи следующей команды:\n",
    "```python\n",
    "gensim.models.KeyedVectors.load(\"model.model\")\n",
    "```\n",
    "\n",
    "Перед загрузкой скачанный архив с моделью fasttext необходимо распаковать. Определить необходимый для загрузки файл несложно, чаще всего это файл с расширением .model  \n",
    "Найдем на странице с моделями модель fasttext, обученную так же на НКРЯ.  \n"
   ]
  },
  {
   "cell_type": "code",
   "execution_count": 9,
   "metadata": {},
   "outputs": [],
   "source": [
    "MODEL_FT_URL = 'http://vectors.nlpl.eu/repository/20/181.zip'\n",
    "\n",
    "model_arch_file = MODEL_FT_URL.split('/')[-1]\n",
    "model_path = model_arch_file.split('.')[0]"
   ]
  },
  {
   "cell_type": "code",
   "execution_count": 21,
   "metadata": {},
   "outputs": [
    {
     "name": "stdout",
     "output_type": "stream",
     "text": [
      "extract 181.zip to path: 181\n"
     ]
    }
   ],
   "source": [
    "# Скачивание модели.\n",
    "# размер файла - 2,6 Gb. Не выполняйте этот код повторно, если модель уже скачана и распакована.\n",
    "\n",
    "_ = wget.download(MODEL_FT_URL)\n",
    "print(f'extract {model_arch_file} to path: {model_path}')\n",
    "with zipfile.ZipFile(model_file, 'r') as archive:\n",
    "    zipfile.ZipFile.extractall(archive, model_path)\n"
   ]
  },
  {
   "cell_type": "code",
   "execution_count": 10,
   "metadata": {},
   "outputs": [
    {
     "name": "stderr",
     "output_type": "stream",
     "text": [
      "2022-01-19 15:55:54,701 : INFO : loading Word2VecKeyedVectors object from 181/model.model\n",
      "2022-01-19 15:55:55,198 : INFO : loading vectors_vocab from 181/model.model.vectors_vocab.npy with mmap=None\n",
      "2022-01-19 15:55:55,438 : INFO : loading vectors_ngrams from 181/model.model.vectors_ngrams.npy with mmap=None\n",
      "2022-01-19 15:55:58,748 : INFO : loading vectors from 181/model.model.vectors.npy with mmap=None\n",
      "2022-01-19 15:55:58,991 : INFO : setting ignored attribute vectors_vocab_norm to None\n",
      "2022-01-19 15:55:58,993 : INFO : setting ignored attribute buckets_word to None\n",
      "2022-01-19 15:55:58,993 : INFO : setting ignored attribute vectors_norm to None\n",
      "2022-01-19 15:55:58,994 : INFO : setting ignored attribute vectors_ngrams_norm to None\n",
      "2022-01-19 15:55:58,995 : INFO : loaded 181/model.model\n"
     ]
    }
   ],
   "source": [
    "model_ft = gensim.models.KeyedVectors.load(f'{model_path}/model.model')"
   ]
  },
  {
   "cell_type": "code",
   "execution_count": 49,
   "metadata": {},
   "outputs": [
    {
     "name": "stdout",
     "output_type": "stream",
     "text": [
      "Слово                Сосед                Коэффициент косинуссной близости\n",
      "------------------------------------------------------------\n",
      "день                 неделя               0.658\n",
      "день                 днями                0.632\n",
      "день                 месяца               0.63\n",
      "день                 месяц                0.627\n",
      "день                 утро                 0.624\n",
      "\n",
      "ночь                 ночью                0.859\n",
      "ночь                 ..ночь               0.784\n",
      "ночь                 ночи                 0.775\n",
      "ночь                 ..вечер              0.714\n",
      "ночь                 вечер                0.714\n",
      "\n",
      "человек              человека             0.81\n",
      "человек              человек-с            0.773\n",
      "человек              человек-то           0.753\n",
      "человек              человеко             0.71\n",
      "человек              ..человек            0.708\n",
      "\n",
      "семантика            семантико            0.929\n",
      "семантика            семантический        0.873\n",
      "семантика            семантическить       0.865\n",
      "семантика            семантизация         0.833\n",
      "семантика            -семантический       0.832\n",
      "\n",
      "студент              -студент             0.868\n",
      "студент              студент-медик        0.827\n",
      "студент              студентик            0.797\n",
      "студент              студентка            0.749\n",
      "студент              студенточка          0.737\n",
      "\n"
     ]
    }
   ],
   "source": [
    "words = 'день ночь человек семантика студент'.split(' ')\n",
    "print_neighbors(words, model_ft, 5)"
   ]
  },
  {
   "cell_type": "markdown",
   "metadata": {},
   "source": [
    "FastText обрабатывает слова как набор н-грамм. Давайте посмотрим, что будет с несуществующими словами:"
   ]
  },
  {
   "cell_type": "code",
   "execution_count": 50,
   "metadata": {},
   "outputs": [
    {
     "name": "stdout",
     "output_type": "stream",
     "text": [
      "Слово                Сосед                Коэффициент косинуссной близости\n",
      "------------------------------------------------------------\n",
      "вокралось            краля                0.602\n",
      "вокралось            казалось             0.589\n",
      "\n",
      "хливкие              сливки               0.729\n",
      "хливкие              наливки              0.684\n",
      "\n",
      "шорьки               горе-горький         0.624\n",
      "шорьки               горький              0.62\n",
      "\n",
      "пырялись             пыр-пыр              0.746\n",
      "пырялись             пырять               0.732\n",
      "\n",
      "по                   тпо                  0.516\n",
      "по                   ..по                 0.44\n",
      "\n",
      "наве                 нав                  0.737\n",
      "наве                 навь                 0.665\n",
      "\n",
      "и                    -брат                0.234\n",
      "и                    -младший             0.231\n",
      "\n",
      "хрюкатали            хрюк                 0.732\n",
      "хрюкатали            хрюкать              0.696\n",
      "\n",
      "зелюки               зел                  0.679\n",
      "зелюки               зелика               0.656\n",
      "\n",
      "как                  .как                 0.65\n",
      "как                  ,как                 0.607\n",
      "\n",
      "мюмзики              юзика                0.638\n",
      "мюмзики              кики                 0.638\n",
      "\n",
      "в                    певчий               0.238\n",
      "в                    яичник               0.222\n",
      "\n",
      "мове                 бове                 0.646\n",
      "мове                 коирать              0.538\n",
      "\n"
     ]
    }
   ],
   "source": [
    "words = 'вокралось хливкие шорьки пырялись по наве и хрюкатали зелюки как мюмзики в мове'.split(' ')\n",
    "print_neighbors(words, model_ft, 2)"
   ]
  },
  {
   "cell_type": "markdown",
   "metadata": {},
   "source": [
    "И с этой моделью так же доступны различные операции."
   ]
  },
  {
   "cell_type": "code",
   "execution_count": 51,
   "metadata": {},
   "outputs": [
    {
     "name": "stdout",
     "output_type": "stream",
     "text": [
      "0.38349736\n"
     ]
    }
   ],
   "source": [
    "print(model_ft.similarity('человек', 'обезьяна'))"
   ]
  },
  {
   "cell_type": "code",
   "execution_count": 54,
   "metadata": {},
   "outputs": [
    {
     "name": "stdout",
     "output_type": "stream",
     "text": [
      "картофель\n",
      "сельдь\n"
     ]
    }
   ],
   "source": [
    "print(model_ft.doesnt_match('яблоко груша виноград банан лимон картофель'.split()))\n",
    "print(model_ft.doesnt_match('италия германия россия сельдь'.split()))"
   ]
  },
  {
   "cell_type": "code",
   "execution_count": 53,
   "metadata": {},
   "outputs": [
    {
     "name": "stdout",
     "output_type": "stream",
     "text": [
      "суп\n",
      "пепсин\n"
     ]
    }
   ],
   "source": [
    "print(model_ft.most_similar(positive=['борщ', 'россия'], negative=['италия'])[0][0])\n",
    "print(model_ft.most_similar(positive=['кофеин', 'кофе'], negative=['чай'])[0][0])"
   ]
  },
  {
   "cell_type": "markdown",
   "metadata": {},
   "source": [
    "## Инструменты на сайте RusVectōrēs.  \n",
    "На сайте проекта [RusVectōrēs](https://rusvectores.org) доступны различные инструменты, позволяющие проводиь эксперименты с моделями без использования программного кода.  \n",
    "\n",
    "![alt text](https://pbs.twimg.com/media/FGRfHJMWQAQVj2i.jpg)\n"
   ]
  },
  {
   "cell_type": "markdown",
   "metadata": {},
   "source": [
    "# Выводы \n",
    "\n",
    "1. Сервис RusVectōrēs предоставляет доступ к большому количеству предобученных моделей.  \n",
    "2. Модели RusVectores позволяют решать несколько задач:  \n",
    "        - вычислять семантическое сходство между парами слов;  \n",
    "        - находить слова, ближайшие к данному;  \n",
    "        - решать аналогии вида «найти слово X, которое так относится к слову Y, как слово A относится к слову B»;  \n",
    "        - и прочее.  \n",
    "3. Использование готовой модели, обученной на большом тексте, дает много плюсов для использования в своих проектах (примеры будут рассмотрены в следующих темах).  \n",
    "4. Много инструментов для экспериментов доступны на сайте проекта.  "
   ]
  },
  {
   "cell_type": "markdown",
   "metadata": {},
   "source": [
    "# Дополнительные материалы:  \n",
    "  \n",
    "https://rusvectores.org  \n",
    "https://radimrehurek.com/gensim  \n",
    "https://fasttext.cc  \n"
   ]
  }
 ],
 "metadata": {
  "interpreter": {
   "hash": "aeea92d5cbc7b4733b7a0b2ebc427ac21a58cceab802504a0dd243d8ac63dc4a"
  },
  "kernelspec": {
   "display_name": "Python 3.7.5 64-bit ('env': venv)",
   "language": "python",
   "name": "python3"
  },
  "language_info": {
   "codemirror_mode": {
    "name": "ipython",
    "version": 3
   },
   "file_extension": ".py",
   "mimetype": "text/x-python",
   "name": "python",
   "nbconvert_exporter": "python",
   "pygments_lexer": "ipython3",
   "version": "3.7.8"
  },
  "orig_nbformat": 4
 },
 "nbformat": 4,
 "nbformat_minor": 2
}
