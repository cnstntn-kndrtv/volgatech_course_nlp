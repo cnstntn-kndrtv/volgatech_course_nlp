{
 "cells": [
  {
   "cell_type": "markdown",
   "metadata": {},
   "source": [
    "# Тема 2.4.4 Использование обученных моделей RusVectōrēs для определения степени схожести текстов.  \n",
    "\n",
    "\n"
   ]
  },
  {
   "cell_type": "markdown",
   "metadata": {},
   "source": [
    "В предыдущей теме мы рассмотрели сервис [RusVectōrēs](https://rusvectores.org/ru/about/), который вычисляет семантические отношения между словами русского языка и позволяет скачать предобученные дистрибутивно-семантические модели (word embeddings).  \n",
    "\n",
    "В данной теме применим готовые модели для определения степени схожести текстов. Это позволит, например, искать ответ на вопрос.  \n",
    "Для примера рассмотрим датасет вопросов форума Поволжского государственного технологического университета. Датасет собран и размечен вручную экспертами.  "
   ]
  },
  {
   "cell_type": "code",
   "execution_count": 248,
   "metadata": {},
   "outputs": [],
   "source": [
    "# импортируем все необходимые зависимости.\n",
    "import warnings\n",
    "import logging\n",
    "from typing import Dict\n",
    "import zipfile\n",
    "import wget\n",
    "import pandas as pd\n",
    "import numpy as np\n",
    "import matplotlib.pyplot as plt\n",
    "import gensim\n",
    "from sklearn.metrics.pairwise import cosine_similarity\n",
    "from sklearn import metrics\n",
    "from utils import reset_random_seeds\n",
    "\n",
    "\n",
    "# Общие настройки.\n",
    "RANDOM_SEED = 42\n",
    "reset_random_seeds(RANDOM_SEED)\n",
    "plt.style.use('ggplot')\n",
    "logging.basicConfig(format='%(asctime)s : %(levelname)s : %(message)s', level=logging.INFO)\n",
    "warnings.filterwarnings('ignore')"
   ]
  },
  {
   "cell_type": "markdown",
   "metadata": {},
   "source": [
    "В папке `'./data/volgatech_faq'` представлен датасет:  \n",
    "Описание файлов данных:  \n",
    "    `questions.csv` - вопросы пользователей;  \n",
    "    `answers.csv` - ответы на вопросы;  \n",
    "    `pos_relations.csv` - правильные ответы на вопросы (пары вопрос==ответ);  \n",
    "    `neg_relations.csv` - неправильные (неподходящие) ответы.  "
   ]
  },
  {
   "cell_type": "code",
   "execution_count": 2,
   "metadata": {},
   "outputs": [
    {
     "name": "stdout",
     "output_type": "stream",
     "text": [
      "answers.csv       neg_relations.csv questions.csv\n",
      "data.zip          pos_relations.csv\n"
     ]
    }
   ],
   "source": [
    "!ls ./data/volgatech_faq"
   ]
  },
  {
   "cell_type": "code",
   "execution_count": 228,
   "metadata": {},
   "outputs": [
    {
     "data": {
      "text/html": [
       "<div>\n",
       "<style scoped>\n",
       "    .dataframe tbody tr th:only-of-type {\n",
       "        vertical-align: middle;\n",
       "    }\n",
       "\n",
       "    .dataframe tbody tr th {\n",
       "        vertical-align: top;\n",
       "    }\n",
       "\n",
       "    .dataframe thead th {\n",
       "        text-align: right;\n",
       "    }\n",
       "</style>\n",
       "<table border=\"1\" class=\"dataframe\">\n",
       "  <thead>\n",
       "    <tr style=\"text-align: right;\">\n",
       "      <th></th>\n",
       "      <th>id</th>\n",
       "      <th>text</th>\n",
       "    </tr>\n",
       "  </thead>\n",
       "  <tbody>\n",
       "    <tr>\n",
       "      <th>0</th>\n",
       "      <td>3647</td>\n",
       "      <td>размерность векторного пространства</td>\n",
       "    </tr>\n",
       "    <tr>\n",
       "      <th>1</th>\n",
       "      <td>3644</td>\n",
       "      <td>расстояние</td>\n",
       "    </tr>\n",
       "    <tr>\n",
       "      <th>2</th>\n",
       "      <td>3643</td>\n",
       "      <td>привет</td>\n",
       "    </tr>\n",
       "    <tr>\n",
       "      <th>3</th>\n",
       "      <td>3631</td>\n",
       "      <td>что такое подпространство</td>\n",
       "    </tr>\n",
       "    <tr>\n",
       "      <th>4</th>\n",
       "      <td>3630</td>\n",
       "      <td>матрица перехода к новому базису</td>\n",
       "    </tr>\n",
       "  </tbody>\n",
       "</table>\n",
       "</div>"
      ],
      "text/plain": [
       "     id                                 text\n",
       "0  3647  размерность векторного пространства\n",
       "1  3644                           расстояние\n",
       "2  3643                               привет\n",
       "3  3631            что такое подпространство\n",
       "4  3630     матрица перехода к новому базису"
      ]
     },
     "execution_count": 228,
     "metadata": {},
     "output_type": "execute_result"
    }
   ],
   "source": [
    "df_questions = pd.read_csv('./data/volgatech_faq/questions.csv', sep=';', names=['id', 'text'])\n",
    "df_questions.head()"
   ]
  },
  {
   "cell_type": "code",
   "execution_count": 229,
   "metadata": {},
   "outputs": [
    {
     "data": {
      "text/plain": [
       "92"
      ]
     },
     "execution_count": 229,
     "metadata": {},
     "output_type": "execute_result"
    }
   ],
   "source": [
    "# Посчитаем количество уникальных текстов\n",
    "df_questions['text'].nunique()"
   ]
  },
  {
   "cell_type": "code",
   "execution_count": 230,
   "metadata": {},
   "outputs": [
    {
     "data": {
      "text/html": [
       "<div>\n",
       "<style scoped>\n",
       "    .dataframe tbody tr th:only-of-type {\n",
       "        vertical-align: middle;\n",
       "    }\n",
       "\n",
       "    .dataframe tbody tr th {\n",
       "        vertical-align: top;\n",
       "    }\n",
       "\n",
       "    .dataframe thead th {\n",
       "        text-align: right;\n",
       "    }\n",
       "</style>\n",
       "<table border=\"1\" class=\"dataframe\">\n",
       "  <thead>\n",
       "    <tr style=\"text-align: right;\">\n",
       "      <th></th>\n",
       "      <th>id</th>\n",
       "      <th>text</th>\n",
       "    </tr>\n",
       "  </thead>\n",
       "  <tbody>\n",
       "    <tr>\n",
       "      <th>0</th>\n",
       "      <td>339</td>\n",
       "      <td>Размерностью векторного пространства (ВП) назы...</td>\n",
       "    </tr>\n",
       "    <tr>\n",
       "      <th>1</th>\n",
       "      <td>358</td>\n",
       "      <td>С Евклидовым расстоянием мы с вами хорошо знак...</td>\n",
       "    </tr>\n",
       "    <tr>\n",
       "      <th>2</th>\n",
       "      <td>383</td>\n",
       "      <td>Данный форум не предназначен для решения орган...</td>\n",
       "    </tr>\n",
       "    <tr>\n",
       "      <th>3</th>\n",
       "      <td>384</td>\n",
       "      <td>Данный форум не предназначен для решения орган...</td>\n",
       "    </tr>\n",
       "    <tr>\n",
       "      <th>4</th>\n",
       "      <td>374</td>\n",
       "      <td>Опр. Подпространством линейного пространства V...</td>\n",
       "    </tr>\n",
       "  </tbody>\n",
       "</table>\n",
       "</div>"
      ],
      "text/plain": [
       "    id                                               text\n",
       "0  339  Размерностью векторного пространства (ВП) назы...\n",
       "1  358  С Евклидовым расстоянием мы с вами хорошо знак...\n",
       "2  383  Данный форум не предназначен для решения орган...\n",
       "3  384  Данный форум не предназначен для решения орган...\n",
       "4  374  Опр. Подпространством линейного пространства V..."
      ]
     },
     "execution_count": 230,
     "metadata": {},
     "output_type": "execute_result"
    }
   ],
   "source": [
    "df_answers = pd.read_csv('./data/volgatech_faq/answers.csv', sep=';', names=['id', 'text'])\n",
    "df_answers.head()"
   ]
  },
  {
   "cell_type": "code",
   "execution_count": 233,
   "metadata": {},
   "outputs": [
    {
     "data": {
      "text/plain": [
       "32"
      ]
     },
     "execution_count": 233,
     "metadata": {},
     "output_type": "execute_result"
    }
   ],
   "source": [
    "# Посчитаем количество уникальных текстов\n",
    "df_answers['text'].nunique()"
   ]
  },
  {
   "cell_type": "code",
   "execution_count": 231,
   "metadata": {},
   "outputs": [],
   "source": [
    "# Для удобства работы далее нам нужно отсортировать значения таблиц вопросов и ответов по колонке 'id'\n",
    "\n",
    "df_answers = df_answers.sort_values(by=['id'], axis=0, ignore_index=True)\n",
    "df_questions = df_questions.sort_values(by=['id'], axis=0, ignore_index=True)"
   ]
  },
  {
   "cell_type": "code",
   "execution_count": 232,
   "metadata": {},
   "outputs": [
    {
     "data": {
      "text/html": [
       "<div>\n",
       "<style scoped>\n",
       "    .dataframe tbody tr th:only-of-type {\n",
       "        vertical-align: middle;\n",
       "    }\n",
       "\n",
       "    .dataframe tbody tr th {\n",
       "        vertical-align: top;\n",
       "    }\n",
       "\n",
       "    .dataframe thead th {\n",
       "        text-align: right;\n",
       "    }\n",
       "</style>\n",
       "<table border=\"1\" class=\"dataframe\">\n",
       "  <thead>\n",
       "    <tr style=\"text-align: right;\">\n",
       "      <th></th>\n",
       "      <th>id</th>\n",
       "      <th>text</th>\n",
       "    </tr>\n",
       "  </thead>\n",
       "  <tbody>\n",
       "    <tr>\n",
       "      <th>0</th>\n",
       "      <td>327</td>\n",
       "      <td>Векторные пространства, в которых задано скаля...</td>\n",
       "    </tr>\n",
       "    <tr>\n",
       "      <th>1</th>\n",
       "      <td>329</td>\n",
       "      <td>А сейчас отметим следующее, что, задав скалярн...</td>\n",
       "    </tr>\n",
       "    <tr>\n",
       "      <th>2</th>\n",
       "      <td>331</td>\n",
       "      <td>Это поле рациональных чисел, с которыми мы фак...</td>\n",
       "    </tr>\n",
       "    <tr>\n",
       "      <th>3</th>\n",
       "      <td>334</td>\n",
       "      <td>Давайте введем понятие абстрактного векторного...</td>\n",
       "    </tr>\n",
       "    <tr>\n",
       "      <th>4</th>\n",
       "      <td>336</td>\n",
       "      <td>Кроме геометрических векторов - направленных о...</td>\n",
       "    </tr>\n",
       "  </tbody>\n",
       "</table>\n",
       "</div>"
      ],
      "text/plain": [
       "    id                                               text\n",
       "0  327  Векторные пространства, в которых задано скаля...\n",
       "1  329  А сейчас отметим следующее, что, задав скалярн...\n",
       "2  331  Это поле рациональных чисел, с которыми мы фак...\n",
       "3  334  Давайте введем понятие абстрактного векторного...\n",
       "4  336  Кроме геометрических векторов - направленных о..."
      ]
     },
     "execution_count": 232,
     "metadata": {},
     "output_type": "execute_result"
    }
   ],
   "source": [
    "df_answers.head()"
   ]
  },
  {
   "cell_type": "code",
   "execution_count": 284,
   "metadata": {},
   "outputs": [
    {
     "data": {
      "text/html": [
       "<div>\n",
       "<style scoped>\n",
       "    .dataframe tbody tr th:only-of-type {\n",
       "        vertical-align: middle;\n",
       "    }\n",
       "\n",
       "    .dataframe tbody tr th {\n",
       "        vertical-align: top;\n",
       "    }\n",
       "\n",
       "    .dataframe thead th {\n",
       "        text-align: right;\n",
       "    }\n",
       "</style>\n",
       "<table border=\"1\" class=\"dataframe\">\n",
       "  <thead>\n",
       "    <tr style=\"text-align: right;\">\n",
       "      <th></th>\n",
       "      <th>question</th>\n",
       "      <th>answer</th>\n",
       "    </tr>\n",
       "  </thead>\n",
       "  <tbody>\n",
       "    <tr>\n",
       "      <th>0</th>\n",
       "      <td>3647</td>\n",
       "      <td>339</td>\n",
       "    </tr>\n",
       "    <tr>\n",
       "      <th>1</th>\n",
       "      <td>3644</td>\n",
       "      <td>358</td>\n",
       "    </tr>\n",
       "    <tr>\n",
       "      <th>2</th>\n",
       "      <td>3643</td>\n",
       "      <td>383,384</td>\n",
       "    </tr>\n",
       "    <tr>\n",
       "      <th>3</th>\n",
       "      <td>3631</td>\n",
       "      <td>374</td>\n",
       "    </tr>\n",
       "    <tr>\n",
       "      <th>4</th>\n",
       "      <td>3630</td>\n",
       "      <td>405</td>\n",
       "    </tr>\n",
       "  </tbody>\n",
       "</table>\n",
       "</div>"
      ],
      "text/plain": [
       "   question   answer\n",
       "0      3647      339\n",
       "1      3644      358\n",
       "2      3643  383,384\n",
       "3      3631      374\n",
       "4      3630      405"
      ]
     },
     "execution_count": 284,
     "metadata": {},
     "output_type": "execute_result"
    }
   ],
   "source": [
    "df_positive = pd.read_csv('./data/volgatech_faq/pos_relations.csv', sep=';', names=['question', 'answer'])\n",
    "df_positive.head()"
   ]
  },
  {
   "cell_type": "markdown",
   "metadata": {},
   "source": [
    "В данных 1 вопросу может соотвествовать несколько ответов.  \n",
    "Изменим данные - так чтобы 1 вопросу соответствовал 1 ответ для упрощения нашего учебного примера, оставим только первый ответ.  "
   ]
  },
  {
   "cell_type": "code",
   "execution_count": 285,
   "metadata": {},
   "outputs": [],
   "source": [
    "df_positive['answer_1'] = df_positive['answer'].apply(lambda t: [int(a.strip()) for a in t.split(',')][0])"
   ]
  },
  {
   "cell_type": "code",
   "execution_count": 286,
   "metadata": {},
   "outputs": [
    {
     "data": {
      "text/html": [
       "<div>\n",
       "<style scoped>\n",
       "    .dataframe tbody tr th:only-of-type {\n",
       "        vertical-align: middle;\n",
       "    }\n",
       "\n",
       "    .dataframe tbody tr th {\n",
       "        vertical-align: top;\n",
       "    }\n",
       "\n",
       "    .dataframe thead th {\n",
       "        text-align: right;\n",
       "    }\n",
       "</style>\n",
       "<table border=\"1\" class=\"dataframe\">\n",
       "  <thead>\n",
       "    <tr style=\"text-align: right;\">\n",
       "      <th></th>\n",
       "      <th>question</th>\n",
       "      <th>answer</th>\n",
       "      <th>answer_1</th>\n",
       "    </tr>\n",
       "  </thead>\n",
       "  <tbody>\n",
       "    <tr>\n",
       "      <th>0</th>\n",
       "      <td>3647</td>\n",
       "      <td>339</td>\n",
       "      <td>339</td>\n",
       "    </tr>\n",
       "    <tr>\n",
       "      <th>1</th>\n",
       "      <td>3644</td>\n",
       "      <td>358</td>\n",
       "      <td>358</td>\n",
       "    </tr>\n",
       "    <tr>\n",
       "      <th>2</th>\n",
       "      <td>3643</td>\n",
       "      <td>383,384</td>\n",
       "      <td>383</td>\n",
       "    </tr>\n",
       "    <tr>\n",
       "      <th>3</th>\n",
       "      <td>3631</td>\n",
       "      <td>374</td>\n",
       "      <td>374</td>\n",
       "    </tr>\n",
       "    <tr>\n",
       "      <th>4</th>\n",
       "      <td>3630</td>\n",
       "      <td>405</td>\n",
       "      <td>405</td>\n",
       "    </tr>\n",
       "  </tbody>\n",
       "</table>\n",
       "</div>"
      ],
      "text/plain": [
       "   question   answer  answer_1\n",
       "0      3647      339       339\n",
       "1      3644      358       358\n",
       "2      3643  383,384       383\n",
       "3      3631      374       374\n",
       "4      3630      405       405"
      ]
     },
     "execution_count": 286,
     "metadata": {},
     "output_type": "execute_result"
    }
   ],
   "source": [
    "df_positive.head()"
   ]
  },
  {
   "cell_type": "markdown",
   "metadata": {},
   "source": [
    "Загрузим модель RusVectores.  \n",
    "В данных могут встречаться редкие слова, опечатки и прочее. Целесообразно использовать модель на основе fasttext.  "
   ]
  },
  {
   "cell_type": "code",
   "execution_count": 22,
   "metadata": {},
   "outputs": [],
   "source": [
    "MODEL_FT_URL = 'http://vectors.nlpl.eu/repository/20/181.zip'\n",
    "\n",
    "model_arch_file = MODEL_FT_URL.split('/')[-1]\n",
    "model_path = model_arch_file.split('.')[0]"
   ]
  },
  {
   "cell_type": "code",
   "execution_count": 23,
   "metadata": {},
   "outputs": [],
   "source": [
    "# Скачивание модели.\n",
    "# размер файла - 2,6 Gb.\n",
    "# Не выполняйте этот код повторно, если модель уже скачана и распакована.\n",
    "\n",
    "# _ = wget.download(MODEL_FT_URL)\n",
    "# print(f'extract {model_arch_file} to path: {model_path}')\n",
    "# with zipfile.ZipFile(model_file, 'r') as archive:\n",
    "#     zipfile.ZipFile.extractall(archive, model_path)"
   ]
  },
  {
   "cell_type": "code",
   "execution_count": 24,
   "metadata": {},
   "outputs": [
    {
     "name": "stderr",
     "output_type": "stream",
     "text": [
      "2022-01-24 09:41:13,448 : INFO : loading Word2VecKeyedVectors object from 181/model.model\n",
      "2022-01-24 09:41:14,188 : INFO : loading vectors_vocab from 181/model.model.vectors_vocab.npy with mmap=None\n",
      "2022-01-24 09:41:14,424 : INFO : loading vectors_ngrams from 181/model.model.vectors_ngrams.npy with mmap=None\n",
      "2022-01-24 09:41:17,641 : INFO : loading vectors from 181/model.model.vectors.npy with mmap=None\n",
      "2022-01-24 09:41:17,964 : INFO : setting ignored attribute vectors_vocab_norm to None\n",
      "2022-01-24 09:41:17,965 : INFO : setting ignored attribute buckets_word to None\n",
      "2022-01-24 09:41:17,967 : INFO : setting ignored attribute vectors_norm to None\n",
      "2022-01-24 09:41:17,971 : INFO : setting ignored attribute vectors_ngrams_norm to None\n",
      "2022-01-24 09:41:17,972 : INFO : loaded 181/model.model\n"
     ]
    }
   ],
   "source": [
    "vectorizer_ft = gensim.models.KeyedVectors.load(f'{model_path}/model.model')"
   ]
  },
  {
   "cell_type": "code",
   "execution_count": 345,
   "metadata": {},
   "outputs": [
    {
     "name": "stdout",
     "output_type": "stream",
     "text": [
      "text: что такое евклидово пространство\n",
      "размер вектора: 300\n",
      "vector: [-0.039669473, -0.06307665, 0.18722992, 0.15415101, -0.117433324, '...', -0.21156421, 0.21496902, -0.06517227, 0.3788792, 0.11184903]\n"
     ]
    }
   ],
   "source": [
    "def get_text_vector(text: str, model: gensim.models.KeyedVectors = vectorizer_ft) -> np.array:\n",
    "    \"\"\"\n",
    "    Получить усредненный вектор слов текста.\n",
    "\n",
    "    Args:\n",
    "        text (str): текст.\n",
    "        model (gensim.models.KeyedVectors): модель.\n",
    "\n",
    "    Returns:\n",
    "        np.array: результат.\n",
    "    \"\"\"\n",
    "\n",
    "    tokens = text.split()\n",
    "    v = np.mean([model.get_vector(t) for t in tokens], axis=0)\n",
    "\n",
    "    return v\n",
    "\n",
    "t = df_questions['text'].values[0]\n",
    "v = get_text_vector(t, vectorizer_ft)\n",
    "print('text:', t)\n",
    "print('размер вектора:', v.size)\n",
    "print('vector:', list(v[:5]) + ['...'] + list(v[-5:]))"
   ]
  },
  {
   "cell_type": "markdown",
   "metadata": {},
   "source": [
    "Попробуем самый простой подход - посчитаем косинусное расстояние между парами вопрос/ответ.  "
   ]
  },
  {
   "cell_type": "markdown",
   "metadata": {},
   "source": [
    "Чтобы не считать вектора текстов каждый раз - сохраним их в датасете."
   ]
  },
  {
   "cell_type": "code",
   "execution_count": 282,
   "metadata": {},
   "outputs": [],
   "source": [
    "df_answers['text_v'] = df_answers['text'].apply(get_text_vector)\n",
    "df_questions['text_v'] = df_questions['text'].apply(get_text_vector)"
   ]
  },
  {
   "cell_type": "markdown",
   "metadata": {},
   "source": [
    "Для того чтобы оценить качество алгоритма, нам нужна метрика качества.  \n",
    "Применим `top_k_accuracy_score` из пакета `scikit-learn`.  \n",
    "Эта метрика получает 4 основных параметра:  \n",
    "`y_true` - список индексов правильных ответов.  \n",
    "`y_score` - результат работы модели, вероятности ответов.  \n",
    "`k` - количество ответов, среди которых должен быть 1 точный.  \n",
    "`labels` - все возможные ответы.  "
   ]
  },
  {
   "cell_type": "code",
   "execution_count": 367,
   "metadata": {},
   "outputs": [
    {
     "name": "stdout",
     "output_type": "stream",
     "text": [
      "k=3: 1.0\n",
      "k=2: 1.0\n",
      "k=1: 0.6666666666666666\n"
     ]
    }
   ],
   "source": [
    "# Сделаем простой пример для понимания работы метрики.\n",
    "# Допустим у нас есть всего 3 варианта ответа - 0, 1, 2\n",
    "y_labels = [0, 1, 2]\n",
    "# И 3 вопроса: вопрос 0 с ответом 0 и вопрос 1 с ответом 1, 2 == 2.\n",
    "# Соответственно правильные ответы на вопросы [0, 1, 2] должны выглядеть так:\n",
    "y_true = [0, 1, 2]\n",
    "# Наша модель выдает распределение вероятностей по ответам.\n",
    "y_score = [\n",
    "    [0.5, 0.3, 0.1], # Наибольшая вероятность ответа 0 - правильно\n",
    "    [0.3, 0.5, 0.1], # Наибольшая вероятность ответа 1 - правильно\n",
    "    [0.5, 0.1, 0.3], # Наибольшая вероятность ответа 0 - НЕПРАВИЛЬНО\n",
    "]\n",
    "\n",
    "# Считаем точность попадание ответов в разные топ-К:\n",
    "for k in [3, 2, 1]:\n",
    "    acc = metrics.top_k_accuracy_score(y_true=y_true, y_score=y_score, k=k, labels=y_labels)\n",
    "    print(f'k={k}: {acc}')\n"
   ]
  },
  {
   "cell_type": "markdown",
   "metadata": {},
   "source": [
    "Посмотрим, что получится на всём датасете."
   ]
  },
  {
   "cell_type": "code",
   "execution_count": 295,
   "metadata": {},
   "outputs": [
    {
     "data": {
      "text/plain": [
       "0.7967914438502673"
      ]
     },
     "execution_count": 295,
     "metadata": {},
     "output_type": "execute_result"
    }
   ],
   "source": [
    "y_labels = df_answers['id'].values\n",
    "\n",
    "y_true = [df_positive[df_positive['question'] == q_id]['answer_1'].values[0]\n",
    "          for q_id in df_questions['id'].values]\n",
    "\n",
    "y_score = cosine_similarity(list(df_questions['text_v']), list(df_answers['text_v']))\n",
    "\n",
    "metrics.top_k_accuracy_score(y_true=y_true, y_score=y_score, k=5, labels=y_labels)\n",
    "\n"
   ]
  },
  {
   "cell_type": "markdown",
   "metadata": {},
   "source": [
    "И напишем функцию для получения топ-к ответов:\n"
   ]
  },
  {
   "cell_type": "code",
   "execution_count": 331,
   "metadata": {},
   "outputs": [],
   "source": [
    "def get_top_k_answers(q: str, k: int = 5) -> Dict[str, float]:\n",
    "    \"\"\"\n",
    "    get_top_k_answers [summary]\n",
    "\n",
    "    [extended_summary]\n",
    "\n",
    "    Args:\n",
    "        q (str): Текст вопроса.\n",
    "        k (int, optional): Количество ответов. Defaults to 5.\n",
    "\n",
    "    Returns:\n",
    "        Dict[str, float]: Результат в формате {текст_ответа: мера_близости}\n",
    "    \"\"\"\n",
    "\n",
    "    q_vect = get_text_vector(q)\n",
    "    y_score = cosine_similarity([q_vect], list(df_answers['text_v']))[0]\n",
    "    result = {df_answers['text'].values[i]: y_score[i]\n",
    "             for i in np.argsort(y_score)[::-1][:k]}\n",
    "    return result"
   ]
  },
  {
   "cell_type": "code",
   "execution_count": 373,
   "metadata": {},
   "outputs": [
    {
     "name": "stdout",
     "output_type": "stream",
     "text": [
      "--------------------------------------------------------------------------------\n",
      "Вопрос: что такое евклидово пространство\n",
      "Мы будем говорить, что линейное пространство конечномерно, если либо оно ... 0.7875148\n",
      "Векторные пространства, в которых задано скалярное произведение называютс... 0.7598348\n",
      "При решении многих практических задач нам нужно оценивать расстояние. Дав... 0.7380918\n",
      "После того, как мы ввели понятие базиса мы можем ввести понятие координат... 0.73322964\n",
      "Что опять же интересно – это то, что задав метрику – функцию расстояния, ... 0.73199576\n",
      "--------------------------------------------------------------------------------\n",
      "Вопрос: в чём смысл жизни?\n",
      "После того, как мы ввели понятие базиса мы можем ввести понятие координат... 0.63086075\n",
      "Мы ввели понятие абстрактного ВП. И уже начали понимать, что под ВП можно... 0.609517\n",
      "Базис линейного пространства это аналог системы координат в привычной жиз... 0.6087173\n",
      "Данный форум не предназначен для решения организационных вопросов. Вы мож... 0.6065259\n",
      "Функция, которая произвольной паре векторов ставит в соответствие веществ... 0.5983736\n"
     ]
    }
   ],
   "source": [
    "questions = [\n",
    "    df_questions['text'].values[0],\n",
    "    'в чём смысл жизни?',\n",
    "]\n",
    "for q in questions:\n",
    "    print('-'*80)\n",
    "    print('Вопрос:', q)\n",
    "    for answer, score in get_top_k_answers(q=q).items():\n",
    "        print(answer[:73]+'...', score)"
   ]
  },
  {
   "cell_type": "markdown",
   "metadata": {},
   "source": [
    "# Выводы \n",
    "\n",
    "1. Вектора, предобученные на больших корпусах текстов могут давать неплохой результат \"из коробки\".  \n",
    "2. Подбор оптимальной модели векторизации текста может привести к значительно лучшим результатам.  \n",
    "3. Вместо простого косинусного расстояния может использоваться выученная метрика близости см. metric learning.  "
   ]
  }
 ],
 "metadata": {
  "interpreter": {
   "hash": "aeea92d5cbc7b4733b7a0b2ebc427ac21a58cceab802504a0dd243d8ac63dc4a"
  },
  "kernelspec": {
   "display_name": "Python 3.7.5 64-bit ('env': venv)",
   "language": "python",
   "name": "python3"
  },
  "language_info": {
   "codemirror_mode": {
    "name": "ipython",
    "version": 3
   },
   "file_extension": ".py",
   "mimetype": "text/x-python",
   "name": "python",
   "nbconvert_exporter": "python",
   "pygments_lexer": "ipython3",
   "version": "3.7.8"
  },
  "orig_nbformat": 4
 },
 "nbformat": 4,
 "nbformat_minor": 2
}
