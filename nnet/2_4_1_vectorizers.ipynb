{
 "cells": [
  {
   "cell_type": "markdown",
   "metadata": {},
   "source": [
    "# Тема 2.3. Семантический нейросетевой анализ текста\n",
    "\n",
    "**2.3.1. Векторное представление единиц текста.**  \n",
    "2.3.2. Обучение нейросетевой модели word2vec.  \n",
    "2.3.3. Нейросетевая модель torch.embedding.  \n",
    "2.3.4. Анализ тематик электронных писем.  \n",
    "2.3.5. Анализ семантической близости двух текстов.  \n"
   ]
  },
  {
   "cell_type": "code",
   "execution_count": 1,
   "metadata": {},
   "outputs": [],
   "source": [
    "import matplotlib.pyplot as plt\n",
    "plt.style.use('ggplot')\n",
    "import numpy as np\n",
    "RANDOM_SEED = 42\n",
    "np.random.seed(RANDOM_SEED)"
   ]
  },
  {
   "cell_type": "markdown",
   "metadata": {},
   "source": [
    "Задача - представить текст в виде числового вектора. В виде, пригодном для дальнейшей обработки алгоритмами МО.  \n",
    "Кроме этого хотелось бы учесть семантику (смысл) текста/предложения/слова.  "
   ]
  },
  {
   "cell_type": "markdown",
   "metadata": {},
   "source": [
    "## One Hot Encoding (Label binarizer)  \n",
    "  \n",
    "Задача - кодировать слово в вектор.  \n",
    "Самый простой способ - бинарное кодирование.  \n",
    "Число слов в корпусе равно $K$  \n",
    "Сопоставим слову с номером $j$ вектор длины $K$, все значения которого равны нулю, за исключением $K_{i}$, которое равно 1.  \n",
    "В таблице представлен пример для словаря из 3 слов.\n",
    "\n",
    "|          |  |  |  |\n",
    "|----------|:-:|:-:|--:|\n",
    "| белеет   | 1 | 0 | 0 |\n",
    "| парус    | 0 | 1 | 0 |\n",
    "| одинокий | 0 | 0 | 1 |\n",
    "  \n",
    "Просто, быстро, легко объяснить, подходит для простых задач. Активно применяется для кодирования категориальных переменных.  \n",
    "  \n",
    "Недостатки:\n",
    " - Теряется смысл слов. Чаще всего слова (единицы в векторе) сортируются в произвольном порядке (по алфавиту, по очереди следования в корпусе - этот порядок не имеет никакого отношения к смыслу слов ).  \n",
    " - Размер вектора $K$ растет с ростом словаря.  \n",
    " - Слова, отсутствующие в словаре (out of vocabulary - OOV) игнорируются.  \n",
    " - Модель жестко привязана к обучающей выборке (словам в выборке). Переиспользование модели на других задачах сложно, или даже невозможно.  \n",
    "\n",
    "\n",
    "\n",
    "Рассмотрим пример OneHot-кодирования с применением библиотеки `scikit-learn`.  "
   ]
  },
  {
   "cell_type": "code",
   "execution_count": 39,
   "metadata": {},
   "outputs": [
    {
     "name": "stdout",
     "output_type": "stream",
     "text": [
      "белеет [[1 0 0]]\n",
      "парус [[0 0 1]]\n",
      "одинокий [[0 1 0]]\n",
      "ничоси [[0 0 0]]\n"
     ]
    }
   ],
   "source": [
    "from sklearn.preprocessing import LabelBinarizer\n",
    "\n",
    "binarizer = LabelBinarizer()\n",
    "words = ['белеет', 'парус', 'одинокий']\n",
    "binarizer.fit(words)\n",
    "\n",
    "for w in words:\n",
    "    print(w, binarizer.transform([w]))\n",
    "\n",
    "# OOV\n",
    "oov_w = 'ничоси'\n",
    "print(oov_w, binarizer.transform([oov_w]))"
   ]
  },
  {
   "cell_type": "markdown",
   "metadata": {},
   "source": [
    "Представление текста - функция от векторов слов."
   ]
  },
  {
   "cell_type": "code",
   "execution_count": 41,
   "metadata": {},
   "outputs": [
    {
     "name": "stdout",
     "output_type": "stream",
     "text": [
      "белеет парус одинокий ничоси [1 1 1 0]\n"
     ]
    }
   ],
   "source": [
    "doc_tokens = words + [oov_w]\n",
    "v = binarizer.transform(doc_tokens).any(axis=1) * 1\n",
    "print(' '.join(doc_tokens), v)"
   ]
  },
  {
   "cell_type": "markdown",
   "metadata": {},
   "source": [
    "## Count vectorizer  \n",
    "\n",
    "Задача - кодировать текст документа в вектор.  \n",
    "Число слов в корпусе равно $K$  \n",
    "Сопоставим документу с номером $j$ вектор длины $K$. Значение $K_{i}$ соответствует количеству (абсолютной частоте) встречаемости слова $i$ в тексте $j$.  \n",
    "Смысл документа представлен частотой слов этого документа.  \n",
    "  \n",
    "Недостатки:\n",
    "Недостатки:\n",
    " - OOV слова игнорируются.  \n",
    " - Размер вектора $K$ растет с ростом словаря.  "
   ]
  },
  {
   "cell_type": "code",
   "execution_count": 2,
   "metadata": {},
   "outputs": [
    {
     "name": "stdout",
     "output_type": "stream",
     "text": [
      "Словарь: ['дрыгает' 'зайчик' 'ножкой' 'скачет']\n",
      "Зайчик ножкой дрыгает. [[1 1 1 0]]\n",
      "Зайчик скачет и ножкой дрыгает. Дрыгает и скачет. [[2 1 1 2]]\n",
      "OOV! Отсель грозить мы будем шведу. [[0 0 0 0]]\n"
     ]
    }
   ],
   "source": [
    "from sklearn.feature_extraction.text import CountVectorizer\n",
    "\n",
    "corpora = [\n",
    "    \"Зайчик ножкой дрыгает.\",\n",
    "    \"Зайчик скачет и ножкой дрыгает. Дрыгает и скачет.\",\n",
    "]\n",
    "\n",
    "# Параметры по умолчанию разбивают текст на токены длиной не менее 2 символов.\n",
    "# в примере ниже `и` будет проигнорирован.\n",
    "count_vectorizer = CountVectorizer()\n",
    "count_vectorizer.fit(corpora)\n",
    "\n",
    "print('Словарь:', count_vectorizer.get_feature_names_out())\n",
    "\n",
    "for doc in corpora:\n",
    "    print(doc, count_vectorizer.transform([doc]).toarray())\n",
    "\n",
    "oov_text = \"Отсель грозить мы будем шведу.\"\n",
    "print('OOV!', oov_text, count_vectorizer.transform([oov_text]).toarray())"
   ]
  },
  {
   "cell_type": "markdown",
   "metadata": {},
   "source": [
    "## Способы уменьшения словаря.  \n",
    "  \n",
    "В рассмотренных выше подходах размер выходного вектора увеличивается с ростом словаря. Как можно решить этот вопрос?  \n",
    "\n",
    "### Снижение размерности\n",
    "Для уменьшения размерности вектора могут быть применены методы снижения размерности, например метод главных компонент (PCA), t-SNE. Примеры использования приведены в других темах курса.  \n",
    "\n",
    "### N-граммы.  \n",
    "Слово может иметь несколько форм (склонение, число, род). Например слово *ёж* может быть изменено на *ежей*, *ежами*, *ежихой*...  \n",
    "Популярные методы представления однокоренных слов:  \n",
    " - **лемматизация** - приведения слова в начальную форму. Например *ежей -> ёж* (мужской род, именительный падеж, единственное число).  \n",
    " - **стемминг** - удаление аффиксов (начало и окончание, приставка и суффикс). Для этого проводится частотный анализ словарей, выделяются частые \"хвосты\" и удаляются. Например *ей* - частое окончание, значит *ежей -> еж*.  \n",
    "  \n",
    "Перечисленные методы активно применяются в задачах NLP, но не будут рассмотрены в данном курсе.  \n",
    "\n",
    "N-грамма (N-gramm) - последовательность символов длиной $N$. 1-грамма (униграмма), 2-грамма (биграмма), 3-, 4-, 5-граммы и так далее.  \n",
    "Такой подход позволяет учитывать однокоренные слова (содержат одинаковые подстроки). Несловарные слова (OOV) будут комбинациями известных Н-грамм.  \n",
    "Количество Н-грамм, полученных из всех слов языка меньше количества их комбинаций (слов).  \n",
    "Для разных задач могут использоваться как побуквенные Н-граммы, так и Н-граммы по словам. Применение Н-грамм будет рассмотрено подробнее в следующих темах.  \n",
    "\n",
    "  \n",
    "### Хэширование.  \n",
    "Мы можем применить функцию хэширования, котрая преобразует все наши слова в один из Н \"символов\" и таким способом уменьшить размерность выходного вектора. Можно использовать реализацию `sklearn.feature_extraction.text.HashingVectorizer`.\n",
    "\n",
    "### Исключение незначиных слов (стоп-слов).  \n",
    "Стоп-слово - это слово, которое одинаково часто встречается во всех документах, то есть не является важным в контексте документа.  \n",
    "Для уменьшения количества словаря и исключения \"лишней\" информации, мы можем использовать специальные словари стоп-слов (предлоги, частицы, цифры и прочее).  "
   ]
  },
  {
   "cell_type": "code",
   "execution_count": 63,
   "metadata": {},
   "outputs": [
    {
     "name": "stdout",
     "output_type": "stream",
     "text": [
      "Stopwords:\n",
      "а, без, более, больше, будет, будто, бы, был, была, были, было, быть, в, вам, вас, вдруг, ведь, во, вот, впрочем, все, всегда, всего, всех, всю, вы, где, да, даже, два, для, до, другой, его, ее, ей, ему, если, есть, еще, ж, же, за, зачем, здесь, и, из, или, им, иногда, их, к, как, какая, какой, когда, конечно, кто, куда, ли, лучше, между, меня, мне, много, может, можно, мой, моя, мы, на, над, надо, наконец, нас, не, него, нее, ней, нельзя, нет, ни, нибудь, никогда, ним, них, ничего, но, ну, о, об, один, он, она, они, опять, от, перед, по, под, после, потом, потому, почти, при, про, раз, разве, с, сам, свою, себе, себя, сейчас, со, совсем, так, такой, там, тебя, тем, теперь, то, тогда, того, тоже, только, том, тот, три, тут, ты, у, уж, уже, хорошо, хоть, чего, чем, через, что, чтоб, чтобы, чуть, эти, этого, этой, этом, этот, эту, я\n",
      "Punctuation:\n",
      "!, \", #, $, %, &, ', (, ), *, +, ,, -, ., /, :, ;, <, =, >, ?, @, [, \\, ], ^, _, `, {, |, }, ~\n"
     ]
    }
   ],
   "source": [
    "from nltk.corpus import stopwords as nltk_stopwords\n",
    "from string import punctuation\n",
    "\n",
    "print('Stopwords:')\n",
    "print(', '.join(sorted(nltk_stopwords.words('russian'))))\n",
    "\n",
    "print('Punctuation:')\n",
    "print(', '.join(punctuation))"
   ]
  },
  {
   "cell_type": "markdown",
   "metadata": {},
   "source": [
    "#### Term Frequency - Inverse document frequency (TFIdf).  \n",
    "  \n",
    "Или использовать частотный анализ.  \n",
    "Один из методов уменьшения частоты не значимых слов является TFIdf.\n",
    "  \n",
    "$tf-idf(t, d, D) = tf(t,d) \\times idf(t, D)$  \n",
    "  \n",
    "где:  \n",
    "$tf(t, d) = \\frac{n_t} {\\sum_k n_k}$  - частота термина  \n",
    "  \n",
    "$n_t$ - число вхождений слова t в документе  \n",
    "$\\sum_k n_k$ - число слов в документе  \n",
    "  \n",
    "$idf(t,D)=log \\frac {|D|} {|\\{d_i \\in D | t \\in d_i \\}|}$ - инвертированная частота документа\n",
    "  \n",
    "$|D|$  - количество документов  \n",
    "$|\\{d_i \\in D | t \\in d_i \\}|$ - количество документов D в которых встречается слово $t$  \n",
    "  "
   ]
  },
  {
   "cell_type": "code",
   "execution_count": 122,
   "metadata": {},
   "outputs": [
    {
     "name": "stdout",
     "output_type": "stream",
     "text": [
      "Словарь: ['дрыгает' 'зайчик' 'ножкой' 'скачет']\n",
      "Зайчик ножкой дрыгает. [[0.57735027 0.57735027 0.57735027 0.        ]]\n",
      "Зайчик скачет и ножкой дрыгает. Дрыгает и скачет. [[0.53641614 0.26820807 0.26820807 0.75391417]]\n",
      "OOV! Отсель грозить мы будем шведу. [[0. 0. 0. 0.]]\n"
     ]
    }
   ],
   "source": [
    "from sklearn.feature_extraction.text import TfidfVectorizer\n",
    "\n",
    "corpora = [\n",
    "    \"Зайчик ножкой дрыгает.\",\n",
    "    \"Зайчик скачет и ножкой дрыгает. Дрыгает и скачет.\",\n",
    "]\n",
    "\n",
    "tfidf = TfidfVectorizer()\n",
    "tfidf.fit(corpora)\n",
    "\n",
    "print('Словарь:', tfidf.get_feature_names_out())\n",
    "\n",
    "for doc in corpora:\n",
    "    print(doc, tfidf.transform([doc]).toarray())\n",
    "\n",
    "oov_text = \"Отсель грозить мы будем шведу.\"\n",
    "print('OOV!', oov_text, tfidf.transform([oov_text]).toarray())\n"
   ]
  },
  {
   "cell_type": "markdown",
   "metadata": {},
   "source": [
    "## Семантическое пространство.  \n",
    "  \n",
    "[Семантика](https://ru.wikipedia.org/wiki/Семантика) — смысл (значение) текста или отдельного слова. Раздел лингвистики, изучающий смысловое значение единиц языка.  \n",
    "[Семантический анализ](https://ru.wikipedia.org/wiki/Семантический_анализ) — одно из направлений автоматической обработки текста, заключается в выделении семантических отношений, формировании семантического представления текстов.  \n",
    "\n",
    "Документы (целые тексты, отдельные предложения) и слова могут быть определенным образом расположены в векторном пространстве так, чтобы, например близкие по смыслу слова были \"близки\", разные - \"удалены\".  \n",
    "Имея эффективный способ представления слов/документов в векторном (семантическом) пространстве, мы можем решать различные бизнес-задачи, например установление степени близости, классификацию, кластеризацию.  \n",
    "\n",
    "Пример.\n",
    "Для простоты возьмём 2 простых текста на 2 разные темы. Тексты содержат 3 уникальных слова ($K=3$, для удобства видуализации на 3d-графике):  \n",
    "- [токены](https://en.wikipedia.org/wiki/Token) текста\n",
    "- токены криптовалюты\n",
    "\n"
   ]
  },
  {
   "cell_type": "code",
   "execution_count": 2,
   "metadata": {},
   "outputs": [
    {
     "name": "stdout",
     "output_type": "stream",
     "text": [
      "Стеммы:\n",
      "займемся разделением текста на токены : займ разделен текст ток\n",
      "токенизация - разделение текста на токены : токенизац разделен текст ток\n",
      "токен - это единица учета криптовалюты : ток эт единиц учет криптовалют\n",
      "x_vect.shape: (3, 9)\n",
      "x_reduced.shape: (3, 2)\n"
     ]
    },
    {
     "data": {
      "image/png": "[encoded data removed]",
      "text/plain": [
       "<Figure size 432x288 with 1 Axes>"
      ]
     },
     "metadata": {},
     "output_type": "display_data"
    },
    {
     "name": "stdout",
     "output_type": "stream",
     "text": [
      "Евклидово расстояние:\n",
      "займемся разделением текста на токены , займемся разделением текста на токены : 0.00\n",
      "займемся разделением текста на токены , токенизация - разделение текста на токены : 0.89\n",
      "займемся разделением текста на токены , токен - это единица учета криптовалюты : 1.34\n"
     ]
    }
   ],
   "source": [
    "from sklearn.feature_extraction.text import TfidfVectorizer\n",
    "from sklearn.decomposition import PCA\n",
    "from nltk.tokenize import WhitespaceTokenizer\n",
    "from nltk.stem.snowball import SnowballStemmer\n",
    "from nltk.corpus import stopwords as nltk_stopwords\n",
    "from sklearn.metrics.pairwise import euclidean_distances\n",
    "from string import punctuation\n",
    "\n",
    "STOPWORDS = list(nltk_stopwords.words('russian')) + list(punctuation)\n",
    "\n",
    "docs = np.array([\n",
    "    'займемся разделением текста на токены',\n",
    "    'токенизация - разделение текста на токены',\n",
    "    'токен - это единица учета криптовалюты',\n",
    "])\n",
    "\n",
    "tokenizer = WhitespaceTokenizer()\n",
    "stemmer = SnowballStemmer('russian')\n",
    "\n",
    "def preprocess_text(text: str) -> str:\n",
    "    \"\"\"\n",
    "    Предвариательная обработка текста.\n",
    "\n",
    "    Текст приводится к нижнему регистру, удаляются стоп-слова, токены заменяются на стеммы.\n",
    "\n",
    "    Args:\n",
    "        text (str): Исходный текст.\n",
    "    Returns:\n",
    "        str: Обработанный текст.\n",
    "    \"\"\"\n",
    "\n",
    "    tokens = [t.lower() for t in tokenizer.tokenize(text) if t not in STOPWORDS]\n",
    "    return ' '.join([stemmer.stem(t) for t in tokens])\n",
    "\n",
    "\n",
    "x = [preprocess_text(t) for t in docs]\n",
    "print('Стеммы:', *[f'{docs[i]} : {x[i]}' for i in range(len(x))], sep='\\n')\n",
    "\n",
    "x_vect = TfidfVectorizer().fit_transform(x).toarray()\n",
    "x_reduced = PCA(n_components=2).fit_transform(x_vect)\n",
    "print('x_vect.shape:', x_vect.shape)\n",
    "print('x_reduced.shape:', x_reduced.shape)\n",
    "\n",
    "# График\n",
    "fig, ax = plt.subplots()\n",
    "for coords, label in zip(x_reduced, docs):\n",
    "    ax.scatter(coords[0], coords[1], label=label)\n",
    "\n",
    "ax.legend()\n",
    "ax.grid(True)\n",
    "plt.show()\n",
    "\n",
    "# Посчитаем меру близости текстов.\n",
    "print('Евклидово расстояние:')\n",
    "for i1, i2 in ((0,0), (0,1), (0,2)):\n",
    "    d = euclidean_distances([x_vect[i1]], [x_vect[i2]])[0][0]\n",
    "    print(docs[i1], ',', docs[i2], ':', f'{d:2.2f}')\n"
   ]
  },
  {
   "cell_type": "markdown",
   "metadata": {},
   "source": [
    "# Выводы\n",
    "\n",
    "- Векторизация - это приведения текста в вид, пригодный для задач машинного обучения. Множество векторов текстов в Н-мерном пространстве называют семантическим пространством.  \n",
    "- Простые методы часто применяют для простых задач, но они всё еще не позволяют учитывать семантику текста.  \n",
    "- Перечисленные методы выдают вектор текста размерностью Н, где Н зависит от количества слов в документах.  \n",
    "- Описанные простые методы жестко привязаны к данным, на которых они обучались. Переиспользование модели в других задачах, на других текстах затруднительно.  \n",
    "- Уменьшать размерность вектора  можно приведением слова к нормальной форме или стемме, исключением стоп-слов (как по словарю, так и с помощью частотного анализа), так и разбивая слова на Н-граммы (количество Н-грамм всех слов языка меньше чем количество их комбинаций).  \n",
    "- Уменьшить размерность вектора можно методами снижения размерности (например PCA, t-SNE).  "
   ]
  },
  {
   "cell_type": "markdown",
   "metadata": {},
   "source": [
    "# Дополнительные материалы.  \n",
    "  \n",
    "https://youtu.be/zoPutREr9UU. Андрей Кутузов - Дистрибутивно-семантические модели языка и их применение  "
   ]
  },
  {
   "cell_type": "code",
   "execution_count": 1,
   "metadata": {},
   "outputs": [
    {
     "data": {
      "image/jpeg": "[encoded data removed]",
      "text/html": [
       "\n",
       "        <iframe\n",
       "            width=\"560\"\n",
       "            height=\"320\"\n",
       "            src=\"https://www.youtube.com/embed/zoPutREr9UU\"\n",
       "            frameborder=\"0\"\n",
       "            allowfullscreen\n",
       "            \n",
       "        ></iframe>\n",
       "        "
      ],
      "text/plain": [
       "<IPython.lib.display.YouTubeVideo at 0x10d443bd0>"
      ]
     },
     "execution_count": 1,
     "metadata": {},
     "output_type": "execute_result"
    }
   ],
   "source": [
    "from IPython.display import YouTubeVideo\n",
    "\n",
    "YouTubeVideo('zoPutREr9UU', width=560, height=320)"
   ]
  }
 ],
 "metadata": {
  "interpreter": {
   "hash": "aeea92d5cbc7b4733b7a0b2ebc427ac21a58cceab802504a0dd243d8ac63dc4a"
  },
  "kernelspec": {
   "display_name": "Python 3.7.5 64-bit ('env': venv)",
   "language": "python",
   "name": "python3"
  },
  "language_info": {
   "codemirror_mode": {
    "name": "ipython",
    "version": 3
   },
   "file_extension": ".py",
   "mimetype": "text/x-python",
   "name": "python",
   "nbconvert_exporter": "python",
   "pygments_lexer": "ipython3",
   "version": "3.7.8"
  },
  "orig_nbformat": 4
 },
 "nbformat": 4,
 "nbformat_minor": 2
}
