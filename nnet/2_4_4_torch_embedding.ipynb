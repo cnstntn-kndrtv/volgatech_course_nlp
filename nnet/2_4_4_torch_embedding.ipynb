{
 "cells": [
  {
   "cell_type": "markdown",
   "metadata": {},
   "source": [
    "# 2.4.4. Нейросетевая модель torch.embedding.  \n",
    "\n",
    "\n",
    "Видеоуроки:  \n",
    "2.4.1. Векторное представление единиц текста.  \n",
    "2.4.2. Обучение нейросетевой модели word2vec.  \n",
    "2.4.3. Использование обученных моделей RusVectōrēs.  \n",
    "**2.4.4. Нейросетевая модель torch.embedding.**  \n",
    "\n",
    "Дополнительные материалы:  \n",
    "2.4.5. Использование обученных моделей RusVectōrēs для классификации (анализа тональности) текста.  \n",
    "2.4.6. Использование моделей Hugging Face для классификации (анализа тональности) текста.  "
   ]
  },
  {
   "cell_type": "code",
   "execution_count": 2,
   "metadata": {},
   "outputs": [],
   "source": [
    "import matplotlib.pyplot as plt\n",
    "import warnings\n",
    "import logging\n",
    "from utils import reset_random_seeds\n",
    "import torch\n",
    "import torch.nn as nn\n",
    "import torch.nn.functional as F\n",
    "import torch.optim as optim\n",
    "from sklearn.decomposition import PCA\n",
    "from string import punctuation\n",
    "\n",
    "RANDOM_SEED = 42\n",
    "reset_random_seeds(RANDOM_SEED)\n",
    "plt.style.use('ggplot')\n",
    "logging.basicConfig(format='%(asctime)s : %(levelname)s : %(message)s', level=logging.INFO)\n",
    "warnings.filterwarnings('ignore')"
   ]
  },
  {
   "cell_type": "markdown",
   "metadata": {},
   "source": [
    "Как и в случае с бинарным (OneHot) кодированием, (где слова представляются в виде вектора, с 0 на всех позициях, кроме индекса заданного слова, равного 1), нам нужно задать индекс для каждого слова словаря. Это можно сравнить в с ключами в таблице поиска. Все эмбеддинги слов словаря сохраняются в матрице размера $|V| x D$, где $|V|$ - количество слов словаря, $D$ - размер эмбеддинга (выходного вектора). Слово с индексом $i$ будет сохранено в $i$ строке этой матрицы.  \n",
    "`torch.nn.Embeddings` - модуль, который позволяет вам использовать эмбеддинги. Принимает 2 параметра - размер словаря и размер эмбеддинга.  \n",
    "В словаре `word_to_ix` сохраним соответствие слов их индексам.  "
   ]
  },
  {
   "cell_type": "code",
   "execution_count": 3,
   "metadata": {},
   "outputs": [
    {
     "name": "stdout",
     "output_type": "stream",
     "text": [
      "tensor([[ 0.3367,  0.1288,  0.2345,  0.2303, -1.1229]],\n",
      "       grad_fn=<EmbeddingBackward0>)\n"
     ]
    }
   ],
   "source": [
    "word_to_ix = {'привет': 0, 'мир': 1}\n",
    "embeds = nn.Embedding(2, 5)  # 2 слова в словаре, 5 - размер эмбеддинга\n",
    "\n",
    "lookup_tensor = torch.tensor([word_to_ix['привет']], dtype=torch.long)\n",
    "\n",
    "hello_embed = embeds(lookup_tensor)\n",
    "\n",
    "print(hello_embed)"
   ]
  },
  {
   "cell_type": "markdown",
   "metadata": {},
   "source": [
    "## N-граммная языковая модель.  \n",
    "\n",
    "В n-граммной языковой модели, наша задача - посчитать вероятность $w$ при учете контекста:  \n",
    "\n",
    "$P(w_i∣w_i−1,w_i−2,…,w_i−n+1)$  "
   ]
  },
  {
   "cell_type": "code",
   "execution_count": 4,
   "metadata": {},
   "outputs": [
    {
     "name": "stdout",
     "output_type": "stream",
     "text": [
      "word_to_ix: {'корова': 0, 'собака': 1, 'ест': 2, 'корм': 3, 'овца': 4, 'лугу': 5, 'щиплет': 6, 'на': 7, 'травку': 8, 'сухой': 9, 'кошка': 10}\n",
      "vocab_size: 11\n",
      "[(['корова', 'лугу', 'на'], 'щиплет'), (['щиплет', 'корова', 'лугу'], 'травку'), (['овца', 'лугу', 'на'], 'щиплет')]\n"
     ]
    }
   ],
   "source": [
    "def delete_punctuation(text: str) -> str:\n",
    "    \"\"\"\n",
    "    Удаление стоп-слов.\n",
    "\n",
    "    Args:\n",
    "        text (str): Исходный текст.\n",
    "    Returns:\n",
    "        str: Обработанный текст.\n",
    "    \"\"\"\n",
    "\n",
    "    return ' '.join([t for t in text.split() if t not in punctuation])\n",
    "\n",
    "corpora = [\n",
    "    'На лугу корова щиплет травку',\n",
    "    'На лугу овца щиплет травку',\n",
    "    'Собака ест сухой корм',\n",
    "    'Кошка ест сухой корм',\n",
    "]\n",
    "\n",
    "text_processors = [\n",
    "    str.lower,\n",
    "    delete_punctuation,\n",
    "]\n",
    "\n",
    "for proc in text_processors:\n",
    "    for i, text in enumerate(corpora):\n",
    "        corpora[i] = proc(text)\n",
    "\n",
    "tokenized_corpora = [text.split() for text in corpora]\n",
    "\n",
    "vocab = set([tokens for sentence in tokenized_corpora for tokens in sentence])\n",
    "\n",
    "word_to_ix = {w: idx for (idx, w) in enumerate(vocab)}\n",
    "\n",
    "vocab_size = len(vocab)\n",
    "\n",
    "print('word_to_ix:', word_to_ix)\n",
    "print('vocab_size:', vocab_size)\n",
    "\n",
    "CONTEXT_SIZE = 3\n",
    "EMBEDDING_DIM = 4\n",
    "\n",
    "ngrams = [\n",
    "    (\n",
    "        [sent[i - j - 1] for j in range(CONTEXT_SIZE)],\n",
    "        sent[i]\n",
    "    )\n",
    "    for sent in tokenized_corpora\n",
    "    for i in range(CONTEXT_SIZE, len(sent))\n",
    "]\n",
    "\n",
    "# Print the first 3, just so you can see what they look like.\n",
    "print(ngrams[:3])"
   ]
  },
  {
   "cell_type": "code",
   "execution_count": 20,
   "metadata": {},
   "outputs": [
    {
     "name": "stdout",
     "output_type": "stream",
     "text": [
      "Loss at epo 0: 15.453016757965088\n",
      "Loss at epo 50: 7.888537764549255\n",
      "Loss at epo 100: 4.159153550863266\n",
      "Loss at epo 150: 2.497830167412758\n",
      "Loss at epo 200: 1.6649567261338234\n",
      "Loss at epo 250: 1.190372534096241\n",
      "Loss at epo 300: 0.8942529186606407\n",
      "Loss at epo 350: 0.698239354416728\n",
      "Loss at epo 400: 0.5627048444002867\n",
      "Loss at epo 450: 0.46552196331322193\n"
     ]
    }
   ],
   "source": [
    "class NGramLanguageModeler(nn.Module):\n",
    "\n",
    "    def __init__(self, vocab_size: int, embedding_dim: int, context_size: int):\n",
    "        \"\"\"\n",
    "        N-граммная языковая модель.\n",
    "\n",
    "        Args:\n",
    "            vocab_size (int): размер словаря.\n",
    "            embedding_dim (int): размер эмбеддинга.\n",
    "            context_size (int): размер контекстного окна.\n",
    "        \"\"\"\n",
    "\n",
    "        super(NGramLanguageModeler, self).__init__()\n",
    "        self.embeddings = nn.Embedding(vocab_size, embedding_dim)\n",
    "        self.linear1 = nn.Linear(context_size * embedding_dim, 128)\n",
    "        self.linear2 = nn.Linear(128, vocab_size)\n",
    "\n",
    "    def forward(self, inputs):\n",
    "        embeds = self.embeddings(inputs).view((1, -1))\n",
    "        out = F.relu(self.linear1(embeds))\n",
    "        out = self.linear2(out)\n",
    "        log_probs = F.log_softmax(out, dim=1)\n",
    "        return log_probs\n",
    "\n",
    "\n",
    "loss_function = nn.NLLLoss()\n",
    "model = NGramLanguageModeler(len(vocab), EMBEDDING_DIM, CONTEXT_SIZE)\n",
    "optimizer = optim.SGD(model.parameters(), lr=0.001)\n",
    "\n",
    "N_EPOCHS = 500\n",
    "for epoch in range(N_EPOCHS):\n",
    "    total_loss = 0\n",
    "    for context, target in ngrams:\n",
    "\n",
    "        # Шаг 1. Подготовка данных на вход модели (переводим слова в индексы и оборачиваем в тензоры)\n",
    "        context_idxs = torch.tensor([word_to_ix[w] for w in context], dtype=torch.long)\n",
    "\n",
    "        # Шаг 2. PyTorch запоминает предыдущие градиенты. Перед новой итерацией вы должны обнулить их.\n",
    "        model.zero_grad()\n",
    "\n",
    "        # Шаг 3. Запускаем прямое прохождение сети, получем логарифм вероятности для следующих слов.\n",
    "        log_probs = model(context_idxs)\n",
    "\n",
    "        # Шаг 4. Вычисляем функцию потерь.\n",
    "        loss = loss_function(log_probs, torch.tensor([word_to_ix[target]], dtype=torch.long))\n",
    "\n",
    "        # Шаг 5. Запускаем обратный проход и обновляем градиенты.\n",
    "        loss.backward()\n",
    "        optimizer.step()\n",
    "\n",
    "        total_loss += loss.item()\n",
    "\n",
    "    if epoch % 50 == 0:\n",
    "        print(f'Loss at epo {epoch}: {total_loss}')"
   ]
  },
  {
   "cell_type": "code",
   "execution_count": 6,
   "metadata": {},
   "outputs": [],
   "source": [
    "def similarity(v: torch.Tensor, u: torch.Tensor) -> torch.Tensor:\n",
    "    \"\"\"Вычисление меры близости - косинусное расстояние.\"\"\"\n",
    "    return torch.dot(v,u) / (torch.norm(v)*torch.norm(u))\n",
    "\n",
    "\n",
    "def vectorize(word: str) -> torch.Tensor:\n",
    "    \"\"\"Получить вектор текста.\"\"\"\n",
    "    return model.embeddings.weight[word_to_ix[word]]"
   ]
  },
  {
   "cell_type": "code",
   "execution_count": 23,
   "metadata": {},
   "outputs": [
    {
     "data": {
      "text/plain": [
       "tensor([-0.8783, -1.3238,  0.5751,  2.6152], grad_fn=<SelectBackward0>)"
      ]
     },
     "execution_count": 23,
     "metadata": {},
     "output_type": "execute_result"
    }
   ],
   "source": [
    "# Выведем эмбеддинг какого-нибудь слова.\n",
    "vectorize('корова')"
   ]
  },
  {
   "cell_type": "markdown",
   "metadata": {},
   "source": [
    "Посмотрим на близость слов:"
   ]
  },
  {
   "cell_type": "code",
   "execution_count": 22,
   "metadata": {},
   "outputs": [
    {
     "name": "stdout",
     "output_type": "stream",
     "text": [
      "Слово           Сосед           Расстояние     \n",
      "---------------------------------------------\n",
      "корова          корова          1.0\n",
      "корова          корм            0.64\n",
      "корова          овца            0.5\n",
      "\n",
      "овца            овца            1.0\n",
      "овца            на              0.79\n",
      "овца            корм            0.69\n",
      "\n",
      "собака          собака          1.0\n",
      "собака          травку          0.72\n",
      "собака          ест             0.67\n",
      "\n",
      "кошка           кошка           1.0\n",
      "кошка           лугу            0.39\n",
      "кошка           травку          0.34\n",
      "\n"
     ]
    }
   ],
   "source": [
    "# {word: [(word, similarity)]}\n",
    "results = {}\n",
    "\n",
    "words = 'корова овца собака кошка'.split(' ')\n",
    "for w1 in words:\n",
    "    results[w1] = []\n",
    "    for w2 in vocab:\n",
    "        w1v = vectorize(w1)\n",
    "        w2v = vectorize(w2)\n",
    "        d = similarity(w1v, w2v).item()\n",
    "        results[w1].append((w2, d))\n",
    "\n",
    "    results[w1] = sorted(results[w1], key=lambda item: item[1], reverse=True)\n",
    "\n",
    "col_width = 15\n",
    "print(*[c.ljust(col_width) for c in ['Слово', 'Сосед', 'Расстояние']])\n",
    "print('-'*col_width*3)\n",
    "\n",
    "for w1 in results:\n",
    "    for i in range(3):\n",
    "        d = round(results[w1][i][1], 2)\n",
    "        print(w1.ljust(col_width), results[w1][i][0].ljust(col_width), d)\n",
    "    print()"
   ]
  },
  {
   "cell_type": "code",
   "execution_count": 21,
   "metadata": {},
   "outputs": [
    {
     "name": "stdout",
     "output_type": "stream",
     "text": [
      "корова овца\n",
      "\n",
      "овца корова\n",
      "\n",
      "собака кошка\n",
      "\n",
      "кошка собака\n",
      "\n"
     ]
    }
   ],
   "source": [
    "w_vects = [vectorize(w) for w in words]\n",
    "neighbors = []\n",
    "for v1 in w_vects:\n",
    "    dist = []\n",
    "    for v2, w2 in zip(w_vects, words):\n",
    "        d = similarity(v1, v2).item()\n",
    "        dist.append((d, w2))\n",
    "    dist = sorted(dist, key=lambda d: d[0], reverse=True)\n",
    "    n = dist[1][1]\n",
    "    neighbors.append(n)\n",
    "\n",
    "for w, n in zip(words, neighbors):\n",
    "    print(w, n)\n",
    "    print()"
   ]
  },
  {
   "cell_type": "markdown",
   "metadata": {},
   "source": [
    "И выведем на графике несколько слов, предварительно уменьшив размерность векторов слов методом главных компонент:"
   ]
  },
  {
   "cell_type": "code",
   "execution_count": 24,
   "metadata": {},
   "outputs": [
    {
     "data": {
      "image/png": "[encoded data removed]",
      "text/plain": [
       "<Figure size 432x288 with 1 Axes>"
      ]
     },
     "metadata": {},
     "output_type": "display_data"
    }
   ],
   "source": [
    "words = 'корова овца собака кошка'.split(' ')\n",
    "xs = [model.embeddings.weight[word_to_ix[w]].detach().tolist() for w in words]\n",
    "xs_r = PCA(n_components=2).fit(xs).transform(xs)\n",
    "\n",
    "plt.figure()\n",
    "colors = ['navy', 'turquoise', 'orange', 'red']\n",
    "lw = 2\n",
    "\n",
    "# for color, word in zip(colors, words):\n",
    "for i, word in enumerate(words):\n",
    "    color = colors[i]\n",
    "    plt.scatter(\n",
    "        xs_r[i][0],\n",
    "        xs_r[i][1],\n",
    "        color=color,\n",
    "        alpha=0.8,\n",
    "        lw=lw,\n",
    "        label=word,\n",
    "    )\n",
    "plt.legend(loc=\"best\", shadow=False, scatterpoints=1)\n",
    "plt.show()"
   ]
  },
  {
   "cell_type": "code",
   "execution_count": null,
   "metadata": {},
   "outputs": [],
   "source": []
  }
 ],
 "metadata": {
  "interpreter": {
   "hash": "d42e0e22d4c8d5b707481f6163680948cfaa890c6a848f9a148a54488fb6b32d"
  },
  "kernelspec": {
   "display_name": "Python 3.7.8 ('env': venv)",
   "language": "python",
   "name": "python3"
  },
  "language_info": {
   "codemirror_mode": {
    "name": "ipython",
    "version": 3
   },
   "file_extension": ".py",
   "mimetype": "text/x-python",
   "name": "python",
   "nbconvert_exporter": "python",
   "pygments_lexer": "ipython3",
   "version": "3.7.8"
  },
  "orig_nbformat": 4
 },
 "nbformat": 4,
 "nbformat_minor": 2
}
