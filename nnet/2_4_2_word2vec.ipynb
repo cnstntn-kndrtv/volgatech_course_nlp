{
 "cells": [
  {
   "cell_type": "markdown",
   "metadata": {},
   "source": [
    "# 2.4.2. Обучение нейросетевой модели word2vec.  \n",
    "\n",
    "Видеоуроки:  \n",
    "2.4.1. Векторное представление единиц текста.  \n",
    "**2.4.2. Обучение нейросетевой модели word2vec.**  \n",
    "2.4.3. Использование обученных моделей RusVectōrēs.  \n",
    "2.4.4. Нейросетевая модель torch.embedding.  \n",
    "\n",
    "Дополнительные материалы:  \n",
    "2.4.5. Использование обученных моделей RusVectōrēs для классификации (анализа тональности) текста.  \n",
    "2.4.6. Использование моделей Hugging Face для классификации (анализа тональности) текста.  \n"
   ]
  },
  {
   "cell_type": "code",
   "execution_count": 1,
   "metadata": {},
   "outputs": [],
   "source": [
    "\n",
    "# all imports in one cell\n",
    "from typing import List, Dict, Tuple\n",
    "import numpy as np\n",
    "import torch\n",
    "from torch.autograd import Variable\n",
    "import torch.functional as F\n",
    "import torch.nn.functional as F\n",
    "import matplotlib.pyplot as plt\n",
    "from nltk.tokenize import WhitespaceTokenizer\n",
    "from string import punctuation\n",
    "from utils import reset_random_seeds\n",
    "from sklearn.decomposition import PCA\n",
    "import warnings\n"
   ]
  },
  {
   "cell_type": "code",
   "execution_count": 2,
   "metadata": {},
   "outputs": [],
   "source": [
    "# some common settings\n",
    "plt.style.use('ggplot')\n",
    "warnings.filterwarnings('ignore')\n",
    "\n",
    "RANDOM_SEED = 42\n",
    "reset_random_seeds(RANDOM_SEED)"
   ]
  },
  {
   "cell_type": "markdown",
   "metadata": {},
   "source": [
    "> \"A word is characterized by the company it keeps\"  \n",
    "[John Rupert Firth](https://en.wikipedia.org/wiki/John_Rupert_Firth)  \n",
    "\n",
    "**Дистрибутивная гипотеза** - лингвистические единицы, встречающиеся в схожих контекстах, имеют близкие значения (значение слова определяется словами, с которыми оно употребляется).  \n",
    "Например слова \"чай\" и \"кофе\" семантически близки так как употребляются вместе со словами \"ложка\", \"чашка\".  \n",
    "  \n",
    "**Языковая модель (статистическая)** - распределение вероятностей по последовательностям слов. Нейросетевые модели, обученные предсказывать слово с учетом контекста. Например: \"Мама мыла Х\", где слово \"раму\" имеет вероятность больше, чем слово \"папу\".  \n",
    "  \n",
    "**Word2Vec (word to vector)** - нейросетевая языковая модель обучения без учителя, получает на вход слово, на выходе - вектор фиксированной размерности. Задача модели - представить слова таким вектором, чтобы слова со схожим смыслом (контекстом) были близки, а с различающимся - далеки друг от друга.  \n",
    "Word2Vec обучается на больших объемах текстов (текстах новостей, википедии), что позволяет получить обширные \"знания\" (языковую интуицию). В результате модель можно переиспользовать на разных задачах.  \n",
    "  \n",
    "**Embedding ([вложение](https://ru.wikipedia.org/wiki/Вложение))** - векторное представление слова/текста (результат на выходе из модели).  \n",
    "  \n"
   ]
  },
  {
   "cell_type": "markdown",
   "metadata": {},
   "source": [
    "## Обучение собственной модели  word2vec\n",
    "\n",
    "Обучим собственную модель на небольшом корпусе текстов. "
   ]
  },
  {
   "cell_type": "markdown",
   "metadata": {},
   "source": [
    "### Корпус текстов."
   ]
  },
  {
   "cell_type": "code",
   "execution_count": 6,
   "metadata": {},
   "outputs": [
    {
     "name": "stdout",
     "output_type": "stream",
     "text": [
      "на лугу корова щиплет травку\n",
      "на лугу овца щиплет травку\n",
      "собака ест сухой корм\n",
      "кошка ест сухой корм\n"
     ]
    }
   ],
   "source": [
    "tokenizer = WhitespaceTokenizer()\n",
    "\n",
    "\n",
    "def delete_punctuation(text: str) -> str:\n",
    "    \"\"\"\n",
    "    Удаление стоп-слов.\n",
    "\n",
    "    Args:\n",
    "        text (str): Исходный текст.\n",
    "    Returns:\n",
    "        str: Обработанный текст.\n",
    "    \"\"\"\n",
    "\n",
    "    return ' '.join([t for t in tokenizer.tokenize(text) if t not in punctuation])\n",
    "\n",
    "corpora = [\n",
    "    'На лугу корова щиплет травку',\n",
    "    'На лугу овца щиплет травку',\n",
    "    'Собака ест сухой корм'\n",
    "    'Кошка ест сухой корм',\n",
    "]\n",
    "\n",
    "text_processors = [\n",
    "    str.lower,\n",
    "    delete_punctuation,\n",
    "]\n",
    "\n",
    "for proc in text_processors:\n",
    "    for i, text in enumerate(corpora):\n",
    "        corpora[i] = proc(text)\n",
    "\n",
    "print(*corpora, sep='\\n')"
   ]
  },
  {
   "cell_type": "markdown",
   "metadata": {},
   "source": [
    "### Создание словаря.\n",
    "\n",
    "Первый шаг обучения модели - создание своего словаря.  \n",
    "Расширение словаря в модели Word2vec не предусматривается, в \"классическом\" варианте модель не может работать с несловарнымии словами.  \n",
    "Для того чтобы обойти это ограничение, можно обучить модель на побуквенных н-граммах (как это сделали [FastText](https://fasttext.cc) )  "
   ]
  },
  {
   "cell_type": "code",
   "execution_count": 7,
   "metadata": {},
   "outputs": [
    {
     "name": "stdout",
     "output_type": "stream",
     "text": [
      "[['на', 'лугу', 'корова', 'щиплет', 'травку'], ['на', 'лугу', 'овца', 'щиплет', 'травку'], ['собака', 'ест', 'сухой', 'корм'], ['кошка', 'ест', 'сухой', 'корм']]\n"
     ]
    }
   ],
   "source": [
    "tokenized_corpora = [tokenizer.tokenize(text) for text in corpora]\n",
    "print(tokenized_corpora)"
   ]
  },
  {
   "cell_type": "code",
   "execution_count": 8,
   "metadata": {},
   "outputs": [
    {
     "name": "stdout",
     "output_type": "stream",
     "text": [
      "word2idx: {'собака': 0, 'ест': 1, 'травку': 2, 'сухой': 3, 'корм': 4, 'лугу': 5, 'на': 6, 'кошка': 7, 'щиплет': 8, 'корова': 9, 'овца': 10}\n",
      "idx2word: {0: 'собака', 1: 'ест', 2: 'травку', 3: 'сухой', 4: 'корм', 5: 'лугу', 6: 'на', 7: 'кошка', 8: 'щиплет', 9: 'корова', 10: 'овца'}\n",
      "vocabulary_size: 11\n"
     ]
    }
   ],
   "source": [
    "vocabulary = set([tokens for sentence in tokenized_corpora for tokens in sentence])\n",
    "\n",
    "word2idx = {w: idx for (idx, w) in enumerate(vocabulary)}\n",
    "idx2word = {idx: w for (idx, w) in enumerate(vocabulary)}\n",
    "\n",
    "vocabulary_size = len(vocabulary)\n",
    "\n",
    "print('word2idx:', word2idx)\n",
    "print('idx2word:', idx2word)\n",
    "print('vocabulary_size:', vocabulary_size)"
   ]
  },
  {
   "cell_type": "markdown",
   "metadata": {},
   "source": [
    "**Дистрибутивная гипотеза** - лингвистические единицы, встречающиеся в схожих контекстах, имеют близкие значения (значение слова определяется словами, с которыми оно употребляется).  \n",
    "Например слова \"чай\" и \"кофе\" семантически близки так как употребляются вместе со словами \"ложка\", \"чашка\".  \n",
    "\n",
    "Нам нужно создать наборы центральных слов (чай и кофе в примере выше) и слов контекста (ложка, чашка).  \n",
    "Для обучения модели используется искусственно созданный корпус.  \n",
    "Размер контекстного окна (`N`)- максимальное количество слов до и после центрального. Например для `N=2` для строки \"москва столица россии\", мы получим следующий набор:  \n",
    "Для центрального слова `москва` - `['столица', 'россии']`  \n",
    "Для центрального слова `столица` - `['москва', 'россии']`  \n",
    "  \n",
    "На практике (когда модель обучается на объемных корпусах) такая обработка производится на лету, мы же сделаем этот шаг отдельно.  "
   ]
  },
  {
   "cell_type": "code",
   "execution_count": 22,
   "metadata": {},
   "outputs": [],
   "source": [
    "cw_size = 2 # context window size - размер контекстного окна\n",
    "idx_pairs = []\n",
    "\n",
    "for sentence in tokenized_corpora:\n",
    "    indices = [word2idx[word] for word in sentence]\n",
    "    # рассматриваем каждое слово как центральное\n",
    "    for center_word_i in range(len(indices)):\n",
    "        # для каждой позиции окна\n",
    "        for w in range(-cw_size, cw_size + 1):\n",
    "            context_word_i = center_word_i + w\n",
    "            if (context_word_i >= 0\n",
    "                and context_word_i < len(indices)\n",
    "                and center_word_i != context_word_i):\n",
    "                context_word_idx = indices[context_word_i]\n",
    "                idx_pairs.append((indices[center_word_i], context_word_idx))\n",
    "\n",
    "# для удобства переведем в numpy.array\n",
    "idx_pairs = sorted(idx_pairs, key=lambda v : v[0])\n",
    "idx_pairs = np.array(idx_pairs)"
   ]
  },
  {
   "cell_type": "code",
   "execution_count": 23,
   "metadata": {},
   "outputs": [
    {
     "name": "stdout",
     "output_type": "stream",
     "text": [
      "center\tcontext\n",
      "собака\tест\n",
      "собака\tсухой\n",
      "ест\tсобака\n",
      "ест\tсухой\n",
      "ест\tкорм\n",
      "ест\tкошка\n",
      "ест\tсухой\n",
      "ест\tкорм\n",
      "травку\tкорова\n",
      "травку\tщиплет\n"
     ]
    }
   ],
   "source": [
    "print('center', 'context', sep='\\t')\n",
    "for p in idx_pairs[:10]:\n",
    "    print(*[idx2word[i] for i in p], sep='\\t')"
   ]
  },
  {
   "cell_type": "markdown",
   "metadata": {},
   "source": [
    "\n",
    "Используются 2 архитектуры нейронных сетей - CBOW (Continuous Bag Of Word) и Skip-gram.  \n",
    "  \n",
    "## CBOW (Continuous Bag Of Word)  \n",
    "Получить самое вероятное центральное слово при условии заданного контекста.  \n",
    "$P(center|context, \\theta)$  \n",
    "Получить вероятностное распределение для пары \"центральное слово = слово контекста\" с некоторым параметром $\\theta$ (например $P(москва | столица)$)  "
   ]
  },
  {
   "cell_type": "markdown",
   "metadata": {},
   "source": [
    "## Skip-gram  \n",
    "Для заданного центрального слова получить список слов контекста (инверсия CBOW).  \n",
    "$P(context|center, \\theta)$  \n",
    "  \n",
    "Мы будем реализовывать нашу модель на skip-gram. Давайте разберем подробнее.  \n",
    "Задача - получить максимум для всех пар контекст/центр.  \n",
    "$max \\prod _{center} \\prod _{context} P(context|center; \\theta)$  \n",
    "  \n",
    "Сумма вероятностей = 1, значит вероятность для несуществующих пар контекст/центр будет близка к 0. Нейронные сети минимизирую функцию потерь, а значит нам нужен $\\min$, а не $\\max$. Применим некоторые трансформации:  \n",
    "$\\min _{\\theta} - \\log \\prod _{center} \\prod _{context} P(context | center, \\theta)$\n",
    "  \n",
    "Заменим произведение логарифмов их суммой ($\\log(a * b) = \\log(a) + \\log(b)$) и поделим на количество пар ($T$).  \n",
    "$loss = - \\frac {1} {T} \\sum _{center} \\sum _{context} \\log P(context|center, \\theta)$  \n",
    "  \n",
    "  \n",
    "$P(context|center) = \\frac {\\exp (u ^{T} _{context} v _{center})} {\\sum _{w \\in vocab} \\exp(u ^{T} _{w} v _{center})}$  \n",
    "  \n",
    "где:  \n",
    "$\\frac {\\exp(.)} {\\sum \\exp(.)}$ - softmax  \n",
    "  \n",
    "$u ^{T} _{context} v _{center}$ - скалярное произведение векторов центрального ($v$) и контекстного ($u$) слов.  \n",
    "  \n",
    "$\\sum _{w \\in vocab}$ - итерация по всему словарю  \n",
    "  \n",
    "$u ^{T} _{w} v _{center}$ - вычисление сходства для заданного центрального слова и каждого слова словаря (использованного как слово контекста).  \n",
    "  \n",
    "Для каждой пары центр/контекст мы вычисляем оценку близости и делим на сумму всех возможных оценок близости заданного центрального слова и всех слов словаря (для определения относительной величины оценки близости в числителе). Softmax гарантирует что значения будут находиться в диапазоне от 0 до 1.  \n"
   ]
  },
  {
   "cell_type": "markdown",
   "metadata": {},
   "source": [
    "Схематично CBOW и Skip-gram можно представить так:  \n",
    "![CBOW vs Skip-gram](https://www.researchgate.net/profile/Nailah-Al-Madi/publication/319954363/figure/fig1/AS:552189871353858@1508663732919/CBOW-and-Skip-gram-models-architecture-1.png)"
   ]
  },
  {
   "cell_type": "code",
   "execution_count": 24,
   "metadata": {},
   "outputs": [
    {
     "data": {
      "text/plain": [
       "tensor([0., 0., 1., 0.])"
      ]
     },
     "execution_count": 24,
     "metadata": {},
     "output_type": "execute_result"
    }
   ],
   "source": [
    "def get_input_layer(word_idx: int,\n",
    "                    voc_size: int = vocabulary_size\n",
    "                    ) -> torch.Tensor:\n",
    "    \"\"\"\n",
    "    One-hot кодирование слова.\n",
    "\n",
    "    Выдает вектор длиной `voc_size`, значения которого равны 0,\n",
    "    за исключением `word_idx` = 1.\n",
    "\n",
    "    Args:\n",
    "        word_idx (int): индекс кодируемого слова\n",
    "        voc_size: (int, optional): размер словаря.\n",
    "\n",
    "    Returns:\n",
    "        torch.Tensor: бинарный вектор.\n",
    "\n",
    "    \"\"\"\n",
    "\n",
    "    x = torch.zeros(voc_size).float()\n",
    "    x[word_idx] = 1.0\n",
    "    return x\n",
    "\n",
    "\n",
    "get_input_layer(2, 4)"
   ]
  },
  {
   "cell_type": "code",
   "execution_count": 158,
   "metadata": {},
   "outputs": [
    {
     "name": "stdout",
     "output_type": "stream",
     "text": [
      "Loss at epo 0: 4.672657074867554\n",
      "Loss at epo 10: 4.268829268228728\n",
      "Loss at epo 20: 3.9258061069607115\n",
      "Loss at epo 30: 3.6319922988768667\n",
      "Loss at epo 40: 3.379357229763021\n",
      "Loss at epo 50: 3.1619373499415815\n",
      "Loss at epo 60: 2.9749384162326655\n",
      "Loss at epo 70: 2.814166384128233\n",
      "Loss at epo 80: 2.6757943021754422\n",
      "Loss at epo 90: 2.5563850173105798\n",
      "Loss at epo 100: 2.4529698938131332\n",
      "Loss at epo 110: 2.3630583975464106\n",
      "Loss at epo 120: 2.2845763446142278\n",
      "Loss at epo 130: 2.215783189982176\n",
      "Loss at epo 140: 2.1552042116721473\n"
     ]
    }
   ],
   "source": [
    "# Скрытый слой \n",
    "# матрица весов W1 - для вычисления скрытого представления вектора v (центрального слова)\n",
    "# выдает вектор размером embedding_dims\n",
    "# матрица W1 имеет размер [embedding_dims, vocabulary_size]\n",
    "# в каждой колонке W1 хранится вектор для каждого слова из словаря\n",
    "\n",
    "embedding_dims = 5\n",
    "W1 = Variable(torch.randn(embedding_dims, vocabulary_size).float(), requires_grad=True)\n",
    "\n",
    "# Выходной слой\n",
    "# должен иметь vocabulary_size нейронов так как он генерирует вероятности для каждого слова словаря.\n",
    "W2 = Variable(torch.randn(vocabulary_size, embedding_dims).float(), requires_grad=True)\n",
    "\n",
    "num_epochs = 150\n",
    "learning_rate = 0.001\n",
    "\n",
    "for epo in range(num_epochs):\n",
    "    loss_val = 0\n",
    "    for data, target in idx_pairs:\n",
    "        x = Variable(get_input_layer(data)).float()\n",
    "        y_true = Variable(torch.from_numpy(np.array([target])).long())\n",
    "\n",
    "        z1 = torch.matmul(W1, x)\n",
    "        z2 = torch.matmul(W2, z1)\n",
    "\n",
    "        # софтмакс\n",
    "        log_softmax = F.log_softmax(z2, dim=0)\n",
    "\n",
    "        # функция потерь\n",
    "        loss = F.nll_loss(log_softmax.view(1,-1), y_true)\n",
    "        loss_val += loss.item()\n",
    "        loss.backward()\n",
    "\n",
    "        W1.data -= learning_rate * W1.grad.data\n",
    "        W2.data -= learning_rate * W2.grad.data\n",
    "\n",
    "        W1.grad.data.zero_()\n",
    "        W2.grad.data.zero_()\n",
    "\n",
    "    if epo % 10 == 0:\n",
    "        print(f'Loss at epo {epo}: {loss_val/len(idx_pairs)}')"
   ]
  },
  {
   "cell_type": "code",
   "execution_count": 159,
   "metadata": {},
   "outputs": [
    {
     "data": {
      "image/png": "[encoded data removed]",
      "text/plain": [
       "<Figure size 432x288 with 1 Axes>"
      ]
     },
     "metadata": {},
     "output_type": "display_data"
    }
   ],
   "source": [
    "words = 'корова овца собака кошка'.split(' ')\n",
    "xs = [vectorize(w).detach().tolist() for w in words]\n",
    "xs_r = PCA(n_components=2).fit(xs).transform(xs)\n",
    "\n",
    "plt.figure()\n",
    "colors = ['navy', 'turquoise', 'orange', 'red']\n",
    "lw = 2\n",
    "\n",
    "# for color, word in zip(colors, words):\n",
    "for i, word in enumerate(words):\n",
    "    color = colors[i]\n",
    "    plt.scatter(\n",
    "        xs_r[i][0],\n",
    "        xs_r[i][1],\n",
    "        color=color,\n",
    "        alpha=0.8,\n",
    "        lw=lw,\n",
    "        label=word,\n",
    "    )\n",
    "plt.legend(loc=\"best\", shadow=False, scatterpoints=1)\n",
    "plt.show()\n"
   ]
  },
  {
   "cell_type": "code",
   "execution_count": 169,
   "metadata": {},
   "outputs": [],
   "source": [
    "def similarity(v: torch.Tensor, u: torch.Tensor) -> torch.Tensor:\n",
    "  \"\"\"Вычисление меры близости - косинусное расстояние.\"\"\"\n",
    "\n",
    "  return torch.dot(v,u) / (torch.norm(v)*torch.norm(u))"
   ]
  },
  {
   "cell_type": "code",
   "execution_count": 165,
   "metadata": {},
   "outputs": [],
   "source": [
    "def vectorize(word: str) -> torch.Tensor:\n",
    "    \"\"\"Получить вектор текста.\"\"\"\n",
    "    return torch.matmul(W1, get_input_layer(word2idx[word]))"
   ]
  },
  {
   "cell_type": "code",
   "execution_count": 166,
   "metadata": {},
   "outputs": [
    {
     "name": "stdout",
     "output_type": "stream",
     "text": [
      "Слово           Сосед           Расстояние     \n",
      "---------------------------------------------\n",
      "корова          корова          1.0\n",
      "корова          щиплет          0.46\n",
      "корова          овца            0.2\n",
      "\n",
      "овца            овца            1.0\n",
      "овца            сухой           0.67\n",
      "овца            лугу            0.22\n",
      "\n",
      "собака          собака          1.0\n",
      "собака          ест             0.65\n",
      "собака          на              0.51\n",
      "\n",
      "кошка           кошка           1.0\n",
      "кошка           травку          0.85\n",
      "кошка           на              0.73\n",
      "\n"
     ]
    }
   ],
   "source": [
    "# {word: [(word, similarity)]}\n",
    "results: Dict[str, List[Tuple[str, float]]] = {}\n",
    "\n",
    "words = 'корова овца собака кошка'.split(' ')\n",
    "for w1 in words:\n",
    "    results[w1] = []\n",
    "    for w2 in vocabulary:\n",
    "        w1v = vectorize(w1)\n",
    "        w2v = vectorize(w2)\n",
    "        d = similarity(w1v, w2v).item()\n",
    "        results[w1].append((w2, d))\n",
    "\n",
    "    results[w1] = sorted(results[w1], key=lambda item: item[1], reverse=True)\n",
    "\n",
    "col_width = 15\n",
    "print(*[c.ljust(col_width) for c in ['Слово', 'Сосед', 'Расстояние']])\n",
    "print('-'*col_width*3)\n",
    "\n",
    "for w1 in results:\n",
    "    for i in range(3):\n",
    "        d = round(results[w1][i][1], 2)\n",
    "        print(w1.ljust(col_width), results[w1][i][0].ljust(col_width), d)\n",
    "    print()\n"
   ]
  },
  {
   "cell_type": "code",
   "execution_count": 167,
   "metadata": {},
   "outputs": [
    {
     "name": "stdout",
     "output_type": "stream",
     "text": [
      "корова овца\n",
      "\n",
      "овца корова\n",
      "\n",
      "собака кошка\n",
      "\n",
      "кошка собака\n",
      "\n"
     ]
    }
   ],
   "source": [
    "w_vects = [vectorize(w) for w in words]\n",
    "neighbors = []\n",
    "for v1 in w_vects:\n",
    "    dist = []\n",
    "    for v2, w2 in zip(w_vects, words):\n",
    "        d = similarity(v1, v2).item()\n",
    "        dist.append((d, w2))\n",
    "    dist = sorted(dist, key=lambda d: d[0], reverse=True)\n",
    "    n = dist[1][1]\n",
    "    neighbors.append(n)\n",
    "\n",
    "for w, n in zip(words, neighbors):\n",
    "    print(w, n)\n",
    "    print()"
   ]
  },
  {
   "cell_type": "markdown",
   "metadata": {},
   "source": [
    "И выведем на графике несколько слов, предварительно уменьшив размерность векторов слов методом главных компонент:"
   ]
  },
  {
   "cell_type": "code",
   "execution_count": 170,
   "metadata": {},
   "outputs": [
    {
     "data": {
      "image/png": "[encoded data removed]",
      "text/plain": [
       "<Figure size 432x288 with 1 Axes>"
      ]
     },
     "metadata": {},
     "output_type": "display_data"
    }
   ],
   "source": [
    "words = 'корова овца собака кошка'.split(' ')\n",
    "xs = [vectorize(w).detach().tolist() for w in words]\n",
    "xs_r = PCA(n_components=2).fit(xs).transform(xs)\n",
    "\n",
    "plt.figure()\n",
    "colors = ['navy', 'turquoise', 'orange', 'red']\n",
    "lw = 2\n",
    "\n",
    "# for color, word in zip(colors, words):\n",
    "for i, word in enumerate(words):\n",
    "    color = colors[i]\n",
    "    plt.scatter(\n",
    "        xs_r[i][0],\n",
    "        xs_r[i][1],\n",
    "        color=color,\n",
    "        alpha=0.8,\n",
    "        lw=lw,\n",
    "        label=word,\n",
    "    )\n",
    "plt.legend(loc=\"best\", shadow=False, scatterpoints=1)\n",
    "plt.show()\n"
   ]
  },
  {
   "cell_type": "markdown",
   "metadata": {},
   "source": [
    "# Выводы\n",
    "\n",
    "1. Модель Word2Vec позволяет представить слово/текст вектором чисел.  \n",
    "2. Полученный вектор имеет фиксированную размерность и не зависит от размера словаря.  \n",
    "3. Модель можно обучать на больших корпусах текстов, это позволит переиспользовать одну модель для разных задач (будет рассмотрено в следующих темах).  "
   ]
  },
  {
   "cell_type": "markdown",
   "metadata": {},
   "source": [
    "# Дополнительные материалы.  \n",
    "- [Mikolov, T., et al. Efficient estimation of word representations in vector space. arXiv preprint arXiv:1301.3781 (2013).](https://arxiv.org/abs/1301.3781)  \n",
    "- [Mikolov, Tomas, et al. Exploiting similarities among languages for machine translation. arXiv preprint arXiv:1309.4168 (2013).](http://arxiv.org/abs/1309.4168)  "
   ]
  },
  {
   "cell_type": "markdown",
   "metadata": {},
   "source": []
  }
 ],
 "metadata": {
  "interpreter": {
   "hash": "aeea92d5cbc7b4733b7a0b2ebc427ac21a58cceab802504a0dd243d8ac63dc4a"
  },
  "kernelspec": {
   "display_name": "Python 3.7.5 64-bit ('env': venv)",
   "language": "python",
   "name": "python3"
  },
  "language_info": {
   "codemirror_mode": {
    "name": "ipython",
    "version": 3
   },
   "file_extension": ".py",
   "mimetype": "text/x-python",
   "name": "python",
   "nbconvert_exporter": "python",
   "pygments_lexer": "ipython3",
   "version": "3.7.8"
  },
  "orig_nbformat": 4
 },
 "nbformat": 4,
 "nbformat_minor": 2
}
