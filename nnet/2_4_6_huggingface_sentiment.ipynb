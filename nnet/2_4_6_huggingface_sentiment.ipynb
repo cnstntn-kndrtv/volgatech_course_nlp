{
 "cells": [
  {
   "cell_type": "markdown",
   "metadata": {},
   "source": [
    "# 2.4.6. Использование моделей Hugging Face для классификации (анализа тональности) текста.  \n",
    "\n",
    "Видеоуроки:  \n",
    "2.4.1. Векторное представление единиц текста.  \n",
    "2.4.2. Обучение нейросетевой модели word2vec.  \n",
    "2.4.3. Использование обученных моделей RusVectōrēs.  \n",
    "2.4.4. Нейросетевая модель torch.embedding.  \n",
    "\n",
    "Дополнительные материалы:  \n",
    "2.4.5. Использование обученных моделей RusVectōrēs для классификации (анализа тональности) текста.  \n",
    "**2.4.6. Использование моделей Hugging Face для классификации (анализа тональности) текста.**  "
   ]
  },
  {
   "cell_type": "markdown",
   "metadata": {},
   "source": [
    "[Huggingface 🤗](https://huggingface.co) - библиотека и комьюнити, призванные решить большинство задач обработки текстов.  \n",
    "Например такие задачи:  \n",
    "* ответы на вопросы  \n",
    "* определение схожести 2 текстов  \n",
    "* суммаризация (краткое изложение) текста  \n",
    "* классификация текстов  \n",
    "* генерация текстов  \n",
    "* автоматический перевод  \n",
    "* распознавание речи и перевод текста в речь  \n",
    "\n",
    "Полный список доступен по [ссылке](https://huggingface.co/tasks) \n",
    "\n",
    "На сайте проекта вы можете поэкспериментировать с готовыми моделями, а так же узнать детали реализации и скачать готовые примеры кода. Использование таких библиотек как [Huggingface 🤗](https://huggingface.co) значительно упрощает решение задач обработки текстов.  \n",
    "Многие модели, доступные на сайте проекта, обучаются в течении длительного времени на кластерах из большого количества GPU. Обучить такую модель в небольшом проекте часто невозможно.   \n",
    "\n",
    "В этом занятии мы скачаем готовую модель анализа тональности текста (sentiment analysis) и применим на нашем датасете.  "
   ]
  },
  {
   "cell_type": "code",
   "execution_count": 27,
   "metadata": {},
   "outputs": [],
   "source": [
    "import logging\n",
    "import pandas as pd\n",
    "import matplotlib.pyplot as plt\n",
    "import torch\n",
    "from transformers import AutoTokenizer, AutoModelForSequenceClassification\n",
    "from sklearn import metrics\n",
    "\n",
    "plt.style.use('ggplot')\n",
    "logging.basicConfig(format='%(asctime)s : %(levelname)s : %(message)s', level=logging.INFO)"
   ]
  },
  {
   "cell_type": "code",
   "execution_count": 2,
   "metadata": {},
   "outputs": [
    {
     "name": "stdout",
     "output_type": "stream",
     "text": [
      "negative\n",
      "-0.5894947648048401\n",
      "[0.78704476 0.4947824  0.19755   ]\n"
     ]
    }
   ],
   "source": [
    "model_checkpoint = 'cointegrated/rubert-tiny-sentiment-balanced'\n",
    "tokenizer = AutoTokenizer.from_pretrained(model_checkpoint)\n",
    "model = AutoModelForSequenceClassification.from_pretrained(model_checkpoint)\n",
    "\n",
    "if torch.cuda.is_available():\n",
    "    model.cuda()\n",
    "\n",
    "def get_sentiment(text, return_type='label'):\n",
    "    \"\"\"\n",
    "    Получить тональность теста.\n",
    "\n",
    "    Args:\n",
    "        return_type (str) одно из значений 'label', 'score', 'proba'\n",
    "    \"\"\"\n",
    "\n",
    "    with torch.no_grad():\n",
    "        inputs = tokenizer(text, return_tensors='pt', truncation=True, padding=True).to(model.device)\n",
    "        proba = torch.sigmoid(model(**inputs).logits).cpu().numpy()[0]\n",
    "    if return_type == 'label':\n",
    "        return model.config.id2label[proba.argmax()]\n",
    "    elif return_type == 'score':\n",
    "        return proba.dot([-1, 0, 1])\n",
    "    return proba\n",
    "\n",
    "text = 'Какая гадость эта ваша заливная рыба!'\n",
    "\n",
    "print(get_sentiment(text, 'label'))  # negative\n",
    "\n",
    "# оценка текста по шкале от -1 (очень негативные) to +1 (крайне позитивный)\n",
    "print(get_sentiment(text, 'score'))  # -0.5894946306943893\n",
    "# вероятности лейблов (negative, neutral, positive)\n",
    "print(get_sentiment(text, 'proba'))  # [0.7870447  0.4947824  0.19755007]"
   ]
  },
  {
   "cell_type": "code",
   "execution_count": 11,
   "metadata": {},
   "outputs": [
    {
     "name": "stdout",
     "output_type": "stream",
     "text": [
      "huggingface/tokenizers: The current process just got forked, after parallelism has already been used. Disabling parallelism to avoid deadlocks...\n",
      "To disable this warning, you can either:\n",
      "\t- Avoid using `tokenizers` before the fork if possible\n",
      "\t- Explicitly set the environment variable TOKENIZERS_PARALLELISM=(true | false)\n",
      "sentiment-analysis-in-russian-lemmatized-topic.csv\n"
     ]
    }
   ],
   "source": [
    "! ls ./data/sentiment"
   ]
  },
  {
   "cell_type": "code",
   "execution_count": 23,
   "metadata": {},
   "outputs": [
    {
     "data": {
      "text/html": [
       "<div>\n",
       "<style scoped>\n",
       "    .dataframe tbody tr th:only-of-type {\n",
       "        vertical-align: middle;\n",
       "    }\n",
       "\n",
       "    .dataframe tbody tr th {\n",
       "        vertical-align: top;\n",
       "    }\n",
       "\n",
       "    .dataframe thead th {\n",
       "        text-align: right;\n",
       "    }\n",
       "</style>\n",
       "<table border=\"1\" class=\"dataframe\">\n",
       "  <thead>\n",
       "    <tr style=\"text-align: right;\">\n",
       "      <th></th>\n",
       "      <th>text</th>\n",
       "      <th>id</th>\n",
       "      <th>sentiment</th>\n",
       "      <th>Lemmed text</th>\n",
       "      <th>Topic label normalized</th>\n",
       "    </tr>\n",
       "  </thead>\n",
       "  <tbody>\n",
       "    <tr>\n",
       "      <th>0</th>\n",
       "      <td>Досудебное расследование по факту покупки ЕНПФ...</td>\n",
       "      <td>1945</td>\n",
       "      <td>negative</td>\n",
       "      <td>досудебный расследование по факт покупка енпф ...</td>\n",
       "      <td>fin</td>\n",
       "    </tr>\n",
       "    <tr>\n",
       "      <th>1</th>\n",
       "      <td>Медики рассказали о состоянии пострадавшего му...</td>\n",
       "      <td>1957</td>\n",
       "      <td>negative</td>\n",
       "      <td>медик рассказать о состояние пострадавший мужч...</td>\n",
       "      <td>accid</td>\n",
       "    </tr>\n",
       "    <tr>\n",
       "      <th>2</th>\n",
       "      <td>Прошел почти год, как железнодорожным оператор...</td>\n",
       "      <td>1969</td>\n",
       "      <td>negative</td>\n",
       "      <td>пройти почти год как железнодорожный оператор ...</td>\n",
       "      <td>kz</td>\n",
       "    </tr>\n",
       "    <tr>\n",
       "      <th>3</th>\n",
       "      <td>По итогам 12 месяцев 2016 года на территории р...</td>\n",
       "      <td>1973</td>\n",
       "      <td>negative</td>\n",
       "      <td>по итог месяц год на территория республика вып...</td>\n",
       "      <td>fin</td>\n",
       "    </tr>\n",
       "    <tr>\n",
       "      <th>4</th>\n",
       "      <td>Астана. 21 ноября. Kazakhstan Today - Агентств...</td>\n",
       "      <td>1975</td>\n",
       "      <td>negative</td>\n",
       "      <td>астан ноябрь агентство рк по дело государствен...</td>\n",
       "      <td>kz</td>\n",
       "    </tr>\n",
       "  </tbody>\n",
       "</table>\n",
       "</div>"
      ],
      "text/plain": [
       "                                                text    id sentiment  \\\n",
       "0  Досудебное расследование по факту покупки ЕНПФ...  1945  negative   \n",
       "1  Медики рассказали о состоянии пострадавшего му...  1957  negative   \n",
       "2  Прошел почти год, как железнодорожным оператор...  1969  negative   \n",
       "3  По итогам 12 месяцев 2016 года на территории р...  1973  negative   \n",
       "4  Астана. 21 ноября. Kazakhstan Today - Агентств...  1975  negative   \n",
       "\n",
       "                                         Lemmed text Topic label normalized  \n",
       "0  досудебный расследование по факт покупка енпф ...                    fin  \n",
       "1  медик рассказать о состояние пострадавший мужч...                  accid  \n",
       "2  пройти почти год как железнодорожный оператор ...                     kz  \n",
       "3  по итог месяц год на территория республика вып...                    fin  \n",
       "4  астан ноябрь агентство рк по дело государствен...                     kz  "
      ]
     },
     "execution_count": 23,
     "metadata": {},
     "output_type": "execute_result"
    }
   ],
   "source": [
    "df = pd.read_csv('./data/sentiment/sentiment-analysis-in-russian-lemmatized-topic.csv', sep=';', encoding='utf-8')\n",
    "df.head()"
   ]
  },
  {
   "cell_type": "code",
   "execution_count": 24,
   "metadata": {},
   "outputs": [
    {
     "name": "stdout",
     "output_type": "stream",
     "text": [
      "<class 'pandas.core.frame.DataFrame'>\n",
      "RangeIndex: 8263 entries, 0 to 8262\n",
      "Data columns (total 5 columns):\n",
      " #   Column                  Non-Null Count  Dtype \n",
      "---  ------                  --------------  ----- \n",
      " 0   text                    8263 non-null   object\n",
      " 1   id                      8263 non-null   int64 \n",
      " 2   sentiment               8263 non-null   object\n",
      " 3   Lemmed text             8263 non-null   object\n",
      " 4   Topic label normalized  8263 non-null   object\n",
      "dtypes: int64(1), object(4)\n",
      "memory usage: 322.9+ KB\n"
     ]
    }
   ],
   "source": [
    "df.info()"
   ]
  },
  {
   "cell_type": "code",
   "execution_count": 25,
   "metadata": {},
   "outputs": [
    {
     "data": {
      "image/png": "[encoded data removed]",
      "text/plain": [
       "<Figure size 432x288 with 1 Axes>"
      ]
     },
     "metadata": {},
     "output_type": "display_data"
    },
    {
     "data": {
      "text/plain": [
       "neutral     4034\n",
       "positive    2795\n",
       "negative    1434\n",
       "Name: sentiment, dtype: int64"
      ]
     },
     "execution_count": 25,
     "metadata": {},
     "output_type": "execute_result"
    }
   ],
   "source": [
    "Y_COL = 'sentiment'\n",
    "TEXT_COL = 'text'\n",
    "df[Y_COL].hist()\n",
    "plt.show()\n",
    "\n",
    "df[Y_COL].value_counts()"
   ]
  },
  {
   "cell_type": "markdown",
   "metadata": {},
   "source": [
    "Давайте проверим соответствие лейблы на выходе модели и лейблы в наших данных. Нам повезло - модель выдает именно то чтто нам нужно.  "
   ]
  },
  {
   "cell_type": "code",
   "execution_count": 26,
   "metadata": {},
   "outputs": [
    {
     "data": {
      "text/plain": [
       "(dict_keys(['negative', 'neutral', 'positive']),\n",
       " array(['negative', 'positive', 'neutral'], dtype=object))"
      ]
     },
     "execution_count": 26,
     "metadata": {},
     "output_type": "execute_result"
    }
   ],
   "source": [
    "model.config.label2id.keys(), df[Y_COL].unique()\n"
   ]
  },
  {
   "cell_type": "markdown",
   "metadata": {},
   "source": [
    "Всего в нашем датасете больше 8 тысяч примеров. Чтобы ускорить обработку, протеститруем работу модели не на всех примерах, а только на части."
   ]
  },
  {
   "cell_type": "code",
   "execution_count": 30,
   "metadata": {},
   "outputs": [],
   "source": [
    "df_test = df.sample(1000)"
   ]
  },
  {
   "cell_type": "code",
   "execution_count": 31,
   "metadata": {},
   "outputs": [
    {
     "name": "stdout",
     "output_type": "stream",
     "text": [
      "accuracy: 0.876\n",
      "f1: 0.876\n",
      "confusion matrix:\n"
     ]
    },
    {
     "data": {
      "image/png": "[encoded data removed]",
      "text/plain": [
       "<Figure size 432x288 with 2 Axes>"
      ]
     },
     "metadata": {},
     "output_type": "display_data"
    }
   ],
   "source": [
    "texts = df_test[TEXT_COL]\n",
    "labels_true = df_test[Y_COL]\n",
    "labels_predicted = [get_sentiment(t, 'label') for t in texts]\n",
    "\n",
    "\n",
    "acc = metrics.accuracy_score(labels_true, labels_predicted)\n",
    "f1 = metrics.f1_score(labels_true, labels_predicted, average='weighted')\n",
    "print('accuracy: %0.3f' % acc)\n",
    "print('f1: %0.3f' % f1)\n",
    "\n",
    "print('confusion matrix:')\n",
    "cm = metrics.ConfusionMatrixDisplay(\n",
    "    metrics.confusion_matrix(labels_true, labels_predicted),\n",
    "    display_labels=df[Y_COL].unique(),\n",
    ")\n",
    "\n",
    "cm.plot()\n",
    "plt.show()"
   ]
  },
  {
   "cell_type": "markdown",
   "metadata": {},
   "source": [
    "# Выводы \n",
    "\n",
    "- Библиотека [Huggingface 🤗](https://huggingface.co) позволяет минимальными усилиями решать большинство задач.  "
   ]
  },
  {
   "cell_type": "markdown",
   "metadata": {},
   "source": []
  }
 ],
 "metadata": {
  "interpreter": {
   "hash": "aeea92d5cbc7b4733b7a0b2ebc427ac21a58cceab802504a0dd243d8ac63dc4a"
  },
  "kernelspec": {
   "display_name": "Python 3.7.5 64-bit ('env': venv)",
   "language": "python",
   "name": "python3"
  },
  "language_info": {
   "codemirror_mode": {
    "name": "ipython",
    "version": 3
   },
   "file_extension": ".py",
   "mimetype": "text/x-python",
   "name": "python",
   "nbconvert_exporter": "python",
   "pygments_lexer": "ipython3",
   "version": "3.7.8"
  },
  "orig_nbformat": 4
 },
 "nbformat": 4,
 "nbformat_minor": 2
}
